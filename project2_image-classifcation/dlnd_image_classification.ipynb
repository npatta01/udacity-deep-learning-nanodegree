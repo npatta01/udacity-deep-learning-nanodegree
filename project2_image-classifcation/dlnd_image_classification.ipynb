{
 "cells": [
  {
   "cell_type": "markdown",
   "metadata": {
    "deletable": true,
    "editable": true
   },
   "source": [
    "# Acknowledgment\n",
    "\n",
    "Siraj's [video](https://github.com/llSourcell/How_to_make_a_tensorflow_image_classifier_LIVE) and [notebook](https://github.com/llSourcell/How_to_make_a_tensorflow_image_classifier_LIVE)"
   ]
  },
  {
   "cell_type": "markdown",
   "metadata": {
    "collapsed": true,
    "deletable": true,
    "editable": true
   },
   "source": [
    "# Image Classification\n",
    "In this project, you'll classify images from the [CIFAR-10 dataset](https://www.cs.toronto.edu/~kriz/cifar.html).  The dataset consists of airplanes, dogs, cats, and other objects. You'll preprocess the images, then train a convolutional neural network on all the samples. The images need to be normalized and the labels need to be one-hot encoded.  You'll get to apply what you learned and build a convolutional, max pooling, dropout, and fully connected layers.  At the end, you'll get to see your neural network's predictions on the sample images.\n",
    "## Get the Data\n",
    "Run the following cell to download the [CIFAR-10 dataset for python](https://www.cs.toronto.edu/~kriz/cifar-10-python.tar.gz)."
   ]
  },
  {
   "cell_type": "code",
   "execution_count": 1,
   "metadata": {
    "collapsed": false,
    "deletable": true,
    "editable": true
   },
   "outputs": [
    {
     "name": "stdout",
     "output_type": "stream",
     "text": [
      "All files found!\n"
     ]
    }
   ],
   "source": [
    "\"\"\"\n",
    "DON'T MODIFY ANYTHING IN THIS CELL THAT IS BELOW THIS LINE\n",
    "\"\"\"\n",
    "from urllib.request import urlretrieve\n",
    "from os.path import isfile, isdir\n",
    "from tqdm import tqdm\n",
    "import problem_unittests as tests\n",
    "import tarfile\n",
    "\n",
    "cifar10_dataset_folder_path = 'cifar-10-batches-py'\n",
    "\n",
    "class DLProgress(tqdm):\n",
    "    last_block = 0\n",
    "\n",
    "    def hook(self, block_num=1, block_size=1, total_size=None):\n",
    "        self.total = total_size\n",
    "        self.update((block_num - self.last_block) * block_size)\n",
    "        self.last_block = block_num\n",
    "\n",
    "if not isfile('cifar-10-python.tar.gz'):\n",
    "    with DLProgress(unit='B', unit_scale=True, miniters=1, desc='CIFAR-10 Dataset') as pbar:\n",
    "        urlretrieve(\n",
    "            'https://www.cs.toronto.edu/~kriz/cifar-10-python.tar.gz',\n",
    "            'cifar-10-python.tar.gz',\n",
    "            pbar.hook)\n",
    "\n",
    "if not isdir(cifar10_dataset_folder_path):\n",
    "    with tarfile.open('cifar-10-python.tar.gz') as tar:\n",
    "        tar.extractall()\n",
    "        tar.close()\n",
    "\n",
    "\n",
    "tests.test_folder_path(cifar10_dataset_folder_path)"
   ]
  },
  {
   "cell_type": "markdown",
   "metadata": {
    "deletable": true,
    "editable": true
   },
   "source": [
    "## Explore the Data\n",
    "The dataset is broken into batches to prevent your machine from running out of memory.  The CIFAR-10 dataset consists of 5 batches, named `data_batch_1`, `data_batch_2`, etc.. Each batch contains the labels and images that are one of the following:\n",
    "* airplane\n",
    "* automobile\n",
    "* bird\n",
    "* cat\n",
    "* deer\n",
    "* dog\n",
    "* frog\n",
    "* horse\n",
    "* ship\n",
    "* truck\n",
    "\n",
    "Understanding a dataset is part of making predictions on the data.  Play around with the code cell below by changing the `batch_id` and `sample_id`. The `batch_id` is the id for a batch (1-5). The `sample_id` is the id for a image and label pair in the batch.\n",
    "\n",
    "Ask yourself \"What are all possible labels?\", \"What is the range of values for the image data?\", \"Are the labels in order or random?\".  Answers to questions like these will help you preprocess the data and end up with better predictions."
   ]
  },
  {
   "cell_type": "code",
   "execution_count": 2,
   "metadata": {
    "collapsed": false,
    "deletable": true,
    "editable": true
   },
   "outputs": [
    {
     "name": "stdout",
     "output_type": "stream",
     "text": [
      "\n",
      "Stats of batch 1:\n",
      "Samples: 10000\n",
      "Label Counts: {0: 1005, 1: 974, 2: 1032, 3: 1016, 4: 999, 5: 937, 6: 1030, 7: 1001, 8: 1025, 9: 981}\n",
      "First 20 Labels: [6, 9, 9, 4, 1, 1, 2, 7, 8, 3, 4, 7, 7, 2, 9, 9, 9, 3, 2, 6]\n",
      "\n",
      "Example of Image 5:\n",
      "Image - Min Value: 0 Max Value: 252\n",
      "Image - Shape: (32, 32, 3)\n",
      "Label - Label Id: 1 Name: automobile\n"
     ]
    },
    {
     "data": {
      "image/png": "[encoded data removed]",
      "text/plain": [
       "<matplotlib.figure.Figure at 0x7f56681542b0>"
      ]
     },
     "metadata": {
      "image/png": {
       "height": 250,
       "width": 253
      }
     },
     "output_type": "display_data"
    }
   ],
   "source": [
    "%matplotlib inline\n",
    "%config InlineBackend.figure_format = 'retina'\n",
    "\n",
    "import helper\n",
    "import numpy as np\n",
    "\n",
    "# Explore the dataset\n",
    "batch_id = 1\n",
    "sample_id = 5\n",
    "num_classes =10\n",
    "helper.display_stats(cifar10_dataset_folder_path, batch_id, sample_id)"
   ]
  },
  {
   "cell_type": "markdown",
   "metadata": {
    "deletable": true,
    "editable": true
   },
   "source": [
    "## Implement Preprocess Functions\n",
    "### Normalize\n",
    "In the cell below, implement the `normalize` function to take in image data, `x`, and return it as a normalized Numpy array. The values should be in the range of 0 to 1, inclusive.  The return object should be the same shape as `x`."
   ]
  },
  {
   "cell_type": "code",
   "execution_count": 3,
   "metadata": {
    "collapsed": false,
    "deletable": true,
    "editable": true
   },
   "outputs": [
    {
     "name": "stdout",
     "output_type": "stream",
     "text": [
      "Tests Passed\n"
     ]
    }
   ],
   "source": [
    "def normalize(x):\n",
    "    \"\"\"\n",
    "    Normalize a list of sample image data in the range of 0 to 1\n",
    "    : x: List of image data.  The image shape is (32, 32, 3)\n",
    "    : return: Numpy array of normalize data\n",
    "    \"\"\"\n",
    "    # TODO: Implement Function\n",
    "    range_start =0 \n",
    "    range_end =1\n",
    "    \n",
    "    image_min = 0\n",
    "    image_max = 255\n",
    "    \n",
    "    val = range_start + ((x - image_min)*(range_end - range_start) / (image_max- image_min))\n",
    "    # same as x/image_max\n",
    "    return val\n",
    "\n",
    "\"\"\"\n",
    "DON'T MODIFY ANYTHING IN THIS CELL THAT IS BELOW THIS LINE\n",
    "\"\"\"\n",
    "tests.test_normalize(normalize)"
   ]
  },
  {
   "cell_type": "markdown",
   "metadata": {
    "deletable": true,
    "editable": true
   },
   "source": [
    "### One-hot encode\n",
    "Just like the previous code cell, you'll be implementing a function for preprocessing.  This time, you'll implement the `one_hot_encode` function. The input, `x`, are a list of labels.  Implement the function to return the list of labels as One-Hot encoded Numpy array.  The possible values for labels are 0 to 9. The one-hot encoding function should return the same encoding for each value between each call to `one_hot_encode`.  Make sure to save the map of encodings outside the function.\n",
    "\n",
    "Hint: Don't reinvent the wheel."
   ]
  },
  {
   "cell_type": "code",
   "execution_count": 4,
   "metadata": {
    "collapsed": false,
    "deletable": true,
    "editable": true
   },
   "outputs": [
    {
     "name": "stdout",
     "output_type": "stream",
     "text": [
      "Tests Passed\n"
     ]
    }
   ],
   "source": [
    "def one_hot_encode(x):\n",
    "    \"\"\"\n",
    "    One hot encode a list of sample labels. Return a one-hot encoded vector for each label.\n",
    "    : x: List of sample Labels\n",
    "    : return: Numpy array of one-hot encoded labels\n",
    "    \"\"\"\n",
    "    # TODO: Implement Function\n",
    "    \n",
    "    # create a diagonal matrix .. then get column\n",
    "    val = np.eye(num_classes)[x]\n",
    "    return val\n",
    "\n",
    "\"\"\"\n",
    "DON'T MODIFY ANYTHING IN THIS CELL THAT IS BELOW THIS LINE\n",
    "\"\"\"\n",
    "tests.test_one_hot_encode(one_hot_encode)"
   ]
  },
  {
   "cell_type": "markdown",
   "metadata": {
    "deletable": true,
    "editable": true
   },
   "source": [
    "### Randomize Data\n",
    "As you saw from exploring the data above, the order of the samples are randomized.  It doesn't hurt to randomize it again, but you don't need to for this dataset."
   ]
  },
  {
   "cell_type": "markdown",
   "metadata": {
    "deletable": true,
    "editable": true
   },
   "source": [
    "## Preprocess all the data and save it\n",
    "Running the code cell below will preprocess all the CIFAR-10 data and save it to file. The code below also uses 10% of the training data for validation."
   ]
  },
  {
   "cell_type": "code",
   "execution_count": 5,
   "metadata": {
    "collapsed": false,
    "deletable": true,
    "editable": true
   },
   "outputs": [],
   "source": [
    "\"\"\"\n",
    "DON'T MODIFY ANYTHING IN THIS CELL\n",
    "\"\"\"\n",
    "# Preprocess Training, Validation, and Testing Data\n",
    "helper.preprocess_and_save_data(cifar10_dataset_folder_path, normalize, one_hot_encode)"
   ]
  },
  {
   "cell_type": "markdown",
   "metadata": {
    "deletable": true,
    "editable": true
   },
   "source": [
    "# Check Point\n",
    "This is your first checkpoint.  If you ever decide to come back to this notebook or have to restart the notebook, you can start from here.  The preprocessed data has been saved to disk."
   ]
  },
  {
   "cell_type": "code",
   "execution_count": 6,
   "metadata": {
    "collapsed": true,
    "deletable": true,
    "editable": true
   },
   "outputs": [],
   "source": [
    "\"\"\"\n",
    "DON'T MODIFY ANYTHING IN THIS CELL\n",
    "\"\"\"\n",
    "import pickle\n",
    "import problem_unittests as tests\n",
    "import helper\n",
    "\n",
    "# Load the Preprocessed Validation data\n",
    "valid_features, valid_labels = pickle.load(open('preprocess_validation.p', mode='rb'))"
   ]
  },
  {
   "cell_type": "markdown",
   "metadata": {
    "deletable": true,
    "editable": true
   },
   "source": [
    "## Build the network\n",
    "For the neural network, you'll build each layer into a function.  Most of the code you've seen has been outside of functions. To test your code more thoroughly, we require that you put each layer in a function.  This allows us to give you better feedback and test for simple mistakes using our unittests before you submit your project.\n",
    "\n",
    ">**Note:** If you're finding it hard to dedicate enough time for this course each week, we've provided a small shortcut to this part of the project. In the next couple of problems, you'll have the option to use classes from the [TensorFlow Layers](https://www.tensorflow.org/api_docs/python/tf/layers) or [TensorFlow Layers (contrib)](https://www.tensorflow.org/api_guides/python/contrib.layers) packages to build each layer, except the layers you build in the \"Convolutional and Max Pooling Layer\" section.  TF Layers is similar to Keras's and TFLearn's abstraction to layers, so it's easy to pickup.\n",
    "\n",
    ">However, if you would like to get the most out of this course, try to solve all the problems _without_ using anything from the TF Layers packages. You **can** still use classes from other packages that happen to have the same name as ones you find in TF Layers! For example, instead of using the TF Layers version of the `conv2d` class, [tf.layers.conv2d](https://www.tensorflow.org/api_docs/python/tf/layers/conv2d), you would want to use the TF Neural Network version of `conv2d`, [tf.nn.conv2d](https://www.tensorflow.org/api_docs/python/tf/nn/conv2d). \n",
    "\n",
    "Let's begin!\n",
    "\n",
    "### Input\n",
    "The neural network needs to read the image data, one-hot encoded labels, and dropout keep probability. Implement the following functions\n",
    "* Implement `neural_net_image_input`\n",
    " * Return a [TF Placeholder](https://www.tensorflow.org/api_docs/python/tf/placeholder)\n",
    " * Set the shape using `image_shape` with batch size set to `None`.\n",
    " * Name the TensorFlow placeholder \"x\" using the TensorFlow `name` parameter in the [TF Placeholder](https://www.tensorflow.org/api_docs/python/tf/placeholder).\n",
    "* Implement `neural_net_label_input`\n",
    " * Return a [TF Placeholder](https://www.tensorflow.org/api_docs/python/tf/placeholder)\n",
    " * Set the shape using `n_classes` with batch size set to `None`.\n",
    " * Name the TensorFlow placeholder \"y\" using the TensorFlow `name` parameter in the [TF Placeholder](https://www.tensorflow.org/api_docs/python/tf/placeholder).\n",
    "* Implement `neural_net_keep_prob_input`\n",
    " * Return a [TF Placeholder](https://www.tensorflow.org/api_docs/python/tf/placeholder) for dropout keep probability.\n",
    " * Name the TensorFlow placeholder \"keep_prob\" using the TensorFlow `name` parameter in the [TF Placeholder](https://www.tensorflow.org/api_docs/python/tf/placeholder).\n",
    "\n",
    "These names will be used at the end of the project to load your saved model.\n",
    "\n",
    "Note: `None` for shapes in TensorFlow allow for a dynamic size."
   ]
  },
  {
   "cell_type": "code",
   "execution_count": 7,
   "metadata": {
    "collapsed": false,
    "deletable": true,
    "editable": true
   },
   "outputs": [
    {
     "name": "stdout",
     "output_type": "stream",
     "text": [
      "Image Input Tests Passed.\n",
      "Label Input Tests Passed.\n",
      "Keep Prob Tests Passed.\n"
     ]
    }
   ],
   "source": [
    "import tensorflow as tf\n",
    "\n",
    "def neural_net_image_input(image_shape):\n",
    "    \"\"\"\n",
    "    Return a Tensor for a bach of image input\n",
    "    : image_shape: Shape of the images\n",
    "    : return: Tensor for image input.\n",
    "    \"\"\"\n",
    "    # TODO: Implement Function\n",
    "    (height,width,color_dims) = image_shape\n",
    "    return tf.placeholder(tf.float32, shape=[None, height,width,color_dims], name='x')\n",
    "\n",
    "\n",
    "def neural_net_label_input(n_classes):\n",
    "    \"\"\"\n",
    "    Return a Tensor for a batch of label input\n",
    "    : n_classes: Number of classes\n",
    "    : return: Tensor for label input.\n",
    "    \"\"\"\n",
    "    # TODO: Implement Function\n",
    "    return tf.placeholder(tf.float32, shape=[None, n_classes], name='y')\n",
    "\n",
    "\n",
    "def neural_net_keep_prob_input():\n",
    "    \"\"\"\n",
    "    Return a Tensor for keep probability\n",
    "    : return: Tensor for keep probability.\n",
    "    \"\"\"\n",
    "    # TODO: Implement Function\n",
    "    return tf.placeholder(tf.float32,name='keep_prob') \n",
    "\n",
    "\n",
    "\"\"\"\n",
    "DON'T MODIFY ANYTHING IN THIS CELL THAT IS BELOW THIS LINE\n",
    "\"\"\"\n",
    "tf.reset_default_graph()\n",
    "tests.test_nn_image_inputs(neural_net_image_input)\n",
    "tests.test_nn_label_inputs(neural_net_label_input)\n",
    "tests.test_nn_keep_prob_inputs(neural_net_keep_prob_input)"
   ]
  },
  {
   "cell_type": "markdown",
   "metadata": {
    "deletable": true,
    "editable": true
   },
   "source": [
    "### Convolution and Max Pooling Layer\n",
    "Convolution layers have a lot of success with images. For this code cell, you should implement the function `conv2d_maxpool` to apply convolution then max pooling:\n",
    "* Create the weight and bias using `conv_ksize`, `conv_num_outputs` and the shape of `x_tensor`.\n",
    "* Apply a convolution to `x_tensor` using weight and `conv_strides`.\n",
    " * We recommend you use same padding, but you're welcome to use any padding.\n",
    "* Add bias\n",
    "* Add a nonlinear activation to the convolution.\n",
    "* Apply Max Pooling using `pool_ksize` and `pool_strides`.\n",
    " * We recommend you use same padding, but you're welcome to use any padding.\n",
    "\n",
    "**Note:** You **can't** use [TensorFlow Layers](https://www.tensorflow.org/api_docs/python/tf/layers) or [TensorFlow Layers (contrib)](https://www.tensorflow.org/api_guides/python/contrib.layers) for **this** layer, but you can still use TensorFlow's [Neural Network](https://www.tensorflow.org/api_docs/python/tf/nn) package. You may still use the shortcut option for all the **other** layers."
   ]
  },
  {
   "cell_type": "code",
   "execution_count": 16,
   "metadata": {
    "collapsed": false,
    "deletable": true,
    "editable": true
   },
   "outputs": [
    {
     "name": "stdout",
     "output_type": "stream",
     "text": [
      "Tests Passed\n"
     ]
    }
   ],
   "source": [
    "def conv2d_maxpool(x_tensor, conv_num_outputs, conv_ksize, conv_strides, pool_ksize, pool_strides):\n",
    "    \"\"\"\n",
    "    Apply convolution then max pooling to x_tensor\n",
    "    :param x_tensor: TensorFlow Tensor\n",
    "    :param conv_num_outputs: Number of outputs for the convolutional layer\n",
    "    :param conv_ksize: kernal size 2-D Tuple for the convolutional layer\n",
    "    :param conv_strides: Stride 2-D Tuple for convolution\n",
    "    :param pool_ksize: kernal size 2-D Tuple for pool\n",
    "    :param pool_strides: Stride 2-D Tuple for pool\n",
    "    : return: A tensor that represents convolution and max pooling of x_tensor\n",
    "    \"\"\"\n",
    "    # TODO: Implement Function\n",
    "    color_channels = x_tensor.get_shape().as_list()[3]\n",
    "    \n",
    "    # Convolution filter\n",
    "    filter_size_width = conv_ksize[0]\n",
    "    filter_size_height = conv_ksize[1]\n",
    "    \n",
    "    # Weight and bias\n",
    "    \n",
    "    #default stdev is 1 .. \n",
    "    # (according to forums and slack), stdev needs to be less than 0.1,otherwise will be stuck learning\n",
    "    weights = tf.Variable(tf.truncated_normal(\n",
    "       [filter_size_width ,filter_size_height, color_channels, conv_num_outputs], stddev=0.05,mean=0))\n",
    "    \n",
    "     \n",
    "    biases = tf.Variable(tf.truncated_normal([conv_num_outputs],stddev=0.05))\n",
    "    \n",
    "    layer = tf.nn.conv2d(input=x_tensor,\n",
    "                         filter=weights,\n",
    "                         strides=[1,conv_strides[0],conv_strides[1],1],\n",
    "                         padding='SAME')\n",
    "    \n",
    "    # Add the biases to the results of the convolution.\n",
    "    # A bias-value is added to each filter-channel.\n",
    "    layer += biases\n",
    "    \n",
    "    pool_size_width = pool_ksize[0]\n",
    "    pool_size_height = pool_ksize[1]\n",
    "    \n",
    "    \n",
    "    (pool_strides_x,pool_strides_y) = pool_strides\n",
    "\n",
    "    layer = tf.nn.relu(layer)\n",
    "\n",
    "    layer = tf.nn.max_pool(value=layer,\n",
    "                       ksize=[1, pool_size_width,pool_size_height, 1],\n",
    "                       strides=[1, pool_strides_x, pool_strides_y, 1],padding='SAME')\n",
    "    \n",
    "    return layer \n",
    "\n",
    "\n",
    "\"\"\"\n",
    "DON'T MODIFY ANYTHING IN THIS CELL THAT IS BELOW THIS LINE\n",
    "\"\"\"\n",
    "tests.test_con_pool(conv2d_maxpool)"
   ]
  },
  {
   "cell_type": "markdown",
   "metadata": {
    "deletable": true,
    "editable": true
   },
   "source": [
    "### Flatten Layer\n",
    "Implement the `flatten` function to change the dimension of `x_tensor` from a 4-D tensor to a 2-D tensor.  The output should be the shape (*Batch Size*, *Flattened Image Size*). Shortcut option: you can use classes from the [TensorFlow Layers](https://www.tensorflow.org/api_docs/python/tf/layers) or [TensorFlow Layers (contrib)](https://www.tensorflow.org/api_guides/python/contrib.layers) packages for this layer. For more of a challenge, only use other TensorFlow packages."
   ]
  },
  {
   "cell_type": "code",
   "execution_count": 17,
   "metadata": {
    "collapsed": false,
    "deletable": true,
    "editable": true
   },
   "outputs": [
    {
     "name": "stdout",
     "output_type": "stream",
     "text": [
      "Tests Passed\n"
     ]
    }
   ],
   "source": [
    "def flatten(x_tensor):\n",
    "    \"\"\"\n",
    "    Flatten x_tensor to (Batch Size, Flattened Image Size)\n",
    "    : x_tensor: A tensor of size (Batch Size, ...), where ... are the image dimensions.\n",
    "    : return: A tensor of size (Batch Size, Flattened Image Size).\n",
    "    \"\"\"\n",
    "    # TODO: Implement Function\n",
    "    \n",
    "    layer_shape = x_tensor.get_shape()\n",
    "    \n",
    "    # The number of features is: img_height * img_width * num_channels\n",
    "    # We can use a function from TensorFlow to calculate this.\n",
    "    num_features = layer_shape[1:4].num_elements()\n",
    "    \n",
    "    # Reshape the layer to [num_images, num_features].\n",
    "    # Note that we just set the size of the second dimension\n",
    "    # to num_features and the size of the first dimension to -1\n",
    "    # which means the size in that dimension is calculated\n",
    "    # so the total size of the tensor is unchanged from the reshaping.\n",
    "    layer_flat = tf.reshape(x_tensor, [-1, num_features])\n",
    "    \n",
    "    return layer_flat\n",
    "\n",
    "\n",
    "\"\"\"\n",
    "DON'T MODIFY ANYTHING IN THIS CELL THAT IS BELOW THIS LINE\n",
    "\"\"\"\n",
    "tests.test_flatten(flatten)"
   ]
  },
  {
   "cell_type": "markdown",
   "metadata": {
    "deletable": true,
    "editable": true
   },
   "source": [
    "### Fully-Connected Layer\n",
    "Implement the `fully_conn` function to apply a fully connected layer to `x_tensor` with the shape (*Batch Size*, *num_outputs*). Shortcut option: you can use classes from the [TensorFlow Layers](https://www.tensorflow.org/api_docs/python/tf/layers) or [TensorFlow Layers (contrib)](https://www.tensorflow.org/api_guides/python/contrib.layers) packages for this layer. For more of a challenge, only use other TensorFlow packages."
   ]
  },
  {
   "cell_type": "code",
   "execution_count": 18,
   "metadata": {
    "collapsed": false,
    "deletable": true,
    "editable": true
   },
   "outputs": [
    {
     "name": "stdout",
     "output_type": "stream",
     "text": [
      "Tests Passed\n"
     ]
    }
   ],
   "source": [
    "def fully_conn(x_tensor, num_outputs):\n",
    "    \"\"\"\n",
    "    Apply a fully connected layer to x_tensor using weight and bias\n",
    "    : x_tensor: A 2-D tensor where the first dimension is batch size.\n",
    "    : num_outputs: The number of output that the new tensor should be.\n",
    "    : return: A 2-D tensor where the second dimension is num_outputs.\n",
    "    \"\"\"\n",
    "    # TODO: Implement Function\n",
    "    \n",
    "    (batch_size,num_inputs) = x_tensor.get_shape().as_list()\n",
    "    \n",
    "    weights = tf.Variable(tf.truncated_normal(\n",
    "       [num_inputs , num_outputs],stddev=0.1))\n",
    "    \n",
    "    biases = tf.Variable(tf.zeros(num_outputs))\n",
    "\n",
    "    # Calculate the layer as the matrix multiplication of\n",
    "    # the input and weights, and then add the bias-values.\n",
    "    layer = tf.add( tf.matmul(x_tensor, weights) , biases)\n",
    "    \n",
    "    return layer\n",
    "\n",
    "\n",
    "\"\"\"\n",
    "DON'T MODIFY ANYTHING IN THIS CELL THAT IS BELOW THIS LINE\n",
    "\"\"\"\n",
    "tests.test_fully_conn(fully_conn)"
   ]
  },
  {
   "cell_type": "markdown",
   "metadata": {
    "deletable": true,
    "editable": true
   },
   "source": [
    "### Output Layer\n",
    "Implement the `output` function to apply a fully connected layer to `x_tensor` with the shape (*Batch Size*, *num_outputs*). Shortcut option: you can use classes from the [TensorFlow Layers](https://www.tensorflow.org/api_docs/python/tf/layers) or [TensorFlow Layers (contrib)](https://www.tensorflow.org/api_guides/python/contrib.layers) packages for this layer. For more of a challenge, only use other TensorFlow packages.\n",
    "\n",
    "**Note:** Activation, softmax, or cross entropy should **not** be applied to this."
   ]
  },
  {
   "cell_type": "code",
   "execution_count": 19,
   "metadata": {
    "collapsed": false,
    "deletable": true,
    "editable": true
   },
   "outputs": [
    {
     "name": "stdout",
     "output_type": "stream",
     "text": [
      "Tests Passed\n"
     ]
    }
   ],
   "source": [
    "def output(x_tensor, num_outputs):\n",
    "    \"\"\"\n",
    "    Apply a output layer to x_tensor using weight and bias\n",
    "    : x_tensor: A 2-D tensor where the first dimension is batch size.\n",
    "    : num_outputs: The number of output that the new tensor should be.\n",
    "    : return: A 2-D tensor where the second dimension is num_outputs.\n",
    "    \"\"\"\n",
    "    # TODO: Implement Function\n",
    " \n",
    "    return fully_conn(x_tensor,num_outputs)\n",
    "\n",
    "\"\"\"\n",
    "DON'T MODIFY ANYTHING IN THIS CELL THAT IS BELOW THIS LINE\n",
    "\"\"\"\n",
    "tests.test_output(output)"
   ]
  },
  {
   "cell_type": "markdown",
   "metadata": {
    "deletable": true,
    "editable": true
   },
   "source": [
    "### Create Convolutional Model\n",
    "Implement the function `conv_net` to create a convolutional neural network model. The function takes in a batch of images, `x`, and outputs logits.  Use the layers you created above to create this model:\n",
    "\n",
    "* Apply 1, 2, or 3 Convolution and Max Pool layers\n",
    "* Apply a Flatten Layer\n",
    "* Apply 1, 2, or 3 Fully Connected Layers\n",
    "* Apply an Output Layer\n",
    "* Return the output\n",
    "* Apply [TensorFlow's Dropout](https://www.tensorflow.org/api_docs/python/tf/nn/dropout) to one or more layers in the model using `keep_prob`. "
   ]
  },
  {
   "cell_type": "code",
   "execution_count": 20,
   "metadata": {
    "collapsed": false,
    "deletable": true,
    "editable": true
   },
   "outputs": [
    {
     "name": "stdout",
     "output_type": "stream",
     "text": [
      "Neural Network Built!\n"
     ]
    }
   ],
   "source": [
    "def conv_net(x, keep_prob):\n",
    "    \"\"\"\n",
    "    Create a convolutional neural network model\n",
    "    : x: Placeholder tensor that holds image data.\n",
    "    : keep_prob: Placeholder tensor that hold dropout keep probability.\n",
    "    : return: Tensor that represents logits\n",
    "    \"\"\"\n",
    "    \n",
    "    x_tensor = x\n",
    "    \n",
    "    conv_num_outputs1 = 64\n",
    "    conv_num_outputs2 = 64\n",
    "    \n",
    "    conv_ksize = (5,5)\n",
    "    conv_strides = (2,2)\n",
    "    \n",
    "    pool_ksize = (2,2)\n",
    "    pool_strides = (2,2) \n",
    "\n",
    "    \n",
    "    # TODO: Apply 1, 2, or 3 Convolution and Max Pool layers\n",
    "    #    Play around with different number of outputs, kernel size and stride\n",
    "    # Function Definition from Above:\n",
    "    conv1 = conv2d_maxpool(x_tensor, conv_num_outputs1, conv_ksize, conv_strides, pool_ksize, pool_strides)\n",
    "    conv2 = conv2d_maxpool(conv1,conv_num_outputs2, conv_ksize, conv_strides, pool_ksize, pool_strides)\n",
    "    \n",
    "    # TODO: Apply a Flatten Layer\n",
    "    # Function Definition from Above:\n",
    "    flat1 = flatten(conv1)\n",
    "    \n",
    "    # TODO: Apply 1, 2, or 3 Fully Connected Layers\n",
    "    #    Play around with different number of outputs\n",
    "    # Function Definition from Above:\n",
    "    fc1 = fully_conn(flat1, 256)\n",
    "    fc1 = tf.nn.dropout(fc1, keep_prob)\n",
    "    \n",
    "    fc2 = fully_conn(fc1, 128)\n",
    "    fc2 = tf.nn.dropout(fc2, keep_prob)\n",
    "    \n",
    "    fc3 = fully_conn(fc1, 64)\n",
    "    fc3 = tf.nn.dropout(fc2, keep_prob)\n",
    "    \n",
    "    # TODO: Apply an Output Layer\n",
    "    #    Set this to the number of classes\n",
    "    # Function Definition from Above:\n",
    "    out = output(fc1, num_outputs=num_classes)\n",
    "    \n",
    "    # TODO: return output\n",
    "    return out\n",
    "\n",
    "\n",
    "\n",
    "\"\"\"\n",
    "DON'T MODIFY ANYTHING IN THIS CELL THAT IS BELOW THIS LINE\n",
    "\"\"\"\n",
    "\n",
    "##############################\n",
    "## Build the Neural Network ##\n",
    "##############################\n",
    "\n",
    "# Remove previous weights, bias, inputs, etc..\n",
    "tf.reset_default_graph()\n",
    "\n",
    "# Inputs\n",
    "x = neural_net_image_input((32, 32, 3))\n",
    "y = neural_net_label_input(10)\n",
    "keep_prob = neural_net_keep_prob_input()\n",
    "\n",
    "# Model\n",
    "logits = conv_net(x, keep_prob)\n",
    "\n",
    "# Name logits Tensor, so that is can be loaded from disk after training\n",
    "logits = tf.identity(logits, name='logits')\n",
    "\n",
    "# Loss and Optimizer\n",
    "cost = tf.reduce_mean(tf.nn.softmax_cross_entropy_with_logits(logits=logits, labels=y))\n",
    "optimizer = tf.train.AdamOptimizer().minimize(cost)\n",
    "\n",
    "# Accuracy\n",
    "correct_pred = tf.equal(tf.argmax(logits, 1), tf.argmax(y, 1))\n",
    "accuracy = tf.reduce_mean(tf.cast(correct_pred, tf.float32), name='accuracy')\n",
    "\n",
    "tests.test_conv_net(conv_net)"
   ]
  },
  {
   "cell_type": "markdown",
   "metadata": {
    "deletable": true,
    "editable": true
   },
   "source": [
    "## Train the Neural Network\n",
    "### Single Optimization\n",
    "Implement the function `train_neural_network` to do a single optimization.  The optimization should use `optimizer` to optimize in `session` with a `feed_dict` of the following:\n",
    "* `x` for image input\n",
    "* `y` for labels\n",
    "* `keep_prob` for keep probability for dropout\n",
    "\n",
    "This function will be called for each batch, so `tf.global_variables_initializer()` has already been called.\n",
    "\n",
    "Note: Nothing needs to be returned. This function is only optimizing the neural network."
   ]
  },
  {
   "cell_type": "code",
   "execution_count": 21,
   "metadata": {
    "collapsed": false,
    "deletable": true,
    "editable": true
   },
   "outputs": [
    {
     "name": "stdout",
     "output_type": "stream",
     "text": [
      "Tests Passed\n"
     ]
    }
   ],
   "source": [
    "def train_neural_network(session, optimizer, keep_probability, feature_batch, label_batch):\n",
    "    \"\"\"\n",
    "    Optimize the session on a batch of images and labels\n",
    "    : session: Current TensorFlow session\n",
    "    : optimizer: TensorFlow optimizer function\n",
    "    : keep_probability: keep probability\n",
    "    : feature_batch: Batch of Numpy image data\n",
    "    : label_batch: Batch of Numpy label data\n",
    "    \"\"\"\n",
    "    # TODO: Implement Function\n",
    "    \n",
    "    session.run(optimizer, feed_dict={x: feature_batch, y: label_batch,\n",
    "                                       keep_prob: keep_probability})\n",
    "\n",
    "\n",
    "\n",
    "\"\"\"\n",
    "DON'T MODIFY ANYTHING IN THIS CELL THAT IS BELOW THIS LINE\n",
    "\"\"\"\n",
    "tests.test_train_nn(train_neural_network)"
   ]
  },
  {
   "cell_type": "markdown",
   "metadata": {
    "deletable": true,
    "editable": true
   },
   "source": [
    "### Show Stats\n",
    "Implement the function `print_stats` to print loss and validation accuracy.  Use the global variables `valid_features` and `valid_labels` to calculate validation accuracy.  Use a keep probability of `1.0` to calculate the loss and validation accuracy."
   ]
  },
  {
   "cell_type": "code",
   "execution_count": 22,
   "metadata": {
    "collapsed": false,
    "deletable": true,
    "editable": true
   },
   "outputs": [],
   "source": [
    "def print_stats(session, feature_batch, label_batch, cost, accuracy):\n",
    "    \"\"\"\n",
    "    Print information about loss and validation accuracy\n",
    "    : session: Current TensorFlow session\n",
    "    : feature_batch: Batch of Numpy image data\n",
    "    : label_batch: Batch of Numpy label data\n",
    "    : cost: TensorFlow cost function\n",
    "    : accuracy: TensorFlow accuracy function\n",
    "    \"\"\"\n",
    "    \n",
    "\n",
    "    loss = sess.run([cost], feed_dict={x: feature_batch,\n",
    "                                                              y: label_batch,\n",
    "                                                              keep_prob: 1.})\n",
    "    \n",
    "    \n",
    "    acc = sess.run( accuracy, feed_dict={x: valid_features,\n",
    "                                                              y: valid_labels,\n",
    "                                                              keep_prob: 1.})\n",
    "    \n",
    "    print('Loss: {} Validation Accuracy: {}'.format(loss, acc))\n"
   ]
  },
  {
   "cell_type": "markdown",
   "metadata": {
    "deletable": true,
    "editable": true
   },
   "source": [
    "### Hyperparameters\n",
    "Tune the following parameters:\n",
    "* Set `epochs` to the number of iterations until the network stops learning or start overfitting\n",
    "* Set `batch_size` to the highest number that your machine has memory for.  Most people set them to common sizes of memory:\n",
    " * 64\n",
    " * 128\n",
    " * 256\n",
    " * ...\n",
    "* Set `keep_probability` to the probability of keeping a node using dropout"
   ]
  },
  {
   "cell_type": "code",
   "execution_count": 27,
   "metadata": {
    "collapsed": true,
    "deletable": true,
    "editable": true
   },
   "outputs": [],
   "source": [
    "# TODO: Tune Parameters\n",
    "epochs = 30\n",
    "batch_size = 128\n",
    "keep_probability = 0.6"
   ]
  },
  {
   "cell_type": "markdown",
   "metadata": {
    "deletable": true,
    "editable": true
   },
   "source": [
    "### Train on a Single CIFAR-10 Batch\n",
    "Instead of training the neural network on all the CIFAR-10 batches of data, let's use a single batch. This should save time while you iterate on the model to get a better accuracy.  Once the final validation accuracy is 50% or greater, run the model on all the data in the next section."
   ]
  },
  {
   "cell_type": "code",
   "execution_count": null,
   "metadata": {
    "collapsed": false,
    "deletable": true,
    "editable": true
   },
   "outputs": [
    {
     "name": "stdout",
     "output_type": "stream",
     "text": [
      "Checking the Training on a Single Batch...\n",
      "Epoch  1, CIFAR-10 Batch 1:  Loss: [1.9005467] Validation Accuracy: 0.41439998149871826\n",
      "Epoch  2, CIFAR-10 Batch 1:  Loss: [1.6251221] Validation Accuracy: 0.4761999845504761\n",
      "Epoch  3, CIFAR-10 Batch 1:  Loss: [1.3836219] Validation Accuracy: 0.5019999742507935\n",
      "Epoch  4, CIFAR-10 Batch 1:  Loss: [1.1907736] Validation Accuracy: 0.5131999254226685\n",
      "Epoch  5, CIFAR-10 Batch 1:  Loss: [1.1245885] Validation Accuracy: 0.5163999795913696\n",
      "Epoch  6, CIFAR-10 Batch 1:  Loss: [0.95266366] Validation Accuracy: 0.5309998989105225\n",
      "Epoch  7, CIFAR-10 Batch 1:  Loss: [0.83185941] Validation Accuracy: 0.539199948310852\n",
      "Epoch  8, CIFAR-10 Batch 1:  Loss: [0.7925294] Validation Accuracy: 0.5369999408721924\n",
      "Epoch  9, CIFAR-10 Batch 1:  Loss: [0.65474057] Validation Accuracy: 0.5455999374389648\n",
      "Epoch 10, CIFAR-10 Batch 1:  Loss: [0.59749377] Validation Accuracy: 0.5481998920440674\n",
      "Epoch 11, CIFAR-10 Batch 1:  Loss: [0.53099185] Validation Accuracy: 0.5559999346733093\n",
      "Epoch 12, CIFAR-10 Batch 1:  Loss: [0.50887132] Validation Accuracy: 0.5547999143600464\n",
      "Epoch 13, CIFAR-10 Batch 1:  Loss: [0.49204794] Validation Accuracy: 0.5637998580932617\n",
      "Epoch 14, CIFAR-10 Batch 1:  Loss: [0.41719609] Validation Accuracy: 0.5571998953819275\n",
      "Epoch 15, CIFAR-10 Batch 1:  Loss: [0.41773638] Validation Accuracy: 0.5571999549865723\n",
      "Epoch 16, CIFAR-10 Batch 1:  Loss: [0.34316263] Validation Accuracy: 0.5495999455451965\n",
      "Epoch 17, CIFAR-10 Batch 1:  Loss: [0.28489316] Validation Accuracy: 0.5501998662948608\n",
      "Epoch 18, CIFAR-10 Batch 1:  Loss: [0.26191655] Validation Accuracy: 0.5553998947143555\n",
      "Epoch 19, CIFAR-10 Batch 1:  Loss: [0.21979243] Validation Accuracy: 0.5571999549865723\n",
      "Epoch 20, CIFAR-10 Batch 1:  Loss: [0.1965902] Validation Accuracy: 0.5507999658584595\n",
      "Epoch 21, CIFAR-10 Batch 1:  Loss: [0.1813104] Validation Accuracy: 0.5465998649597168\n",
      "Epoch 22, CIFAR-10 Batch 1:  Loss: [0.16280374] Validation Accuracy: 0.5477999448776245\n",
      "Epoch 23, CIFAR-10 Batch 1:  Loss: [0.1645605] Validation Accuracy: 0.5465999245643616\n",
      "Epoch 24, CIFAR-10 Batch 1:  Loss: [0.12436476] Validation Accuracy: 0.5435999035835266\n",
      "Epoch 25, CIFAR-10 Batch 1:  Loss: [0.12817788] Validation Accuracy: 0.54339998960495\n",
      "Epoch 26, CIFAR-10 Batch 1:  Loss: [0.11242892] Validation Accuracy: 0.532599925994873\n",
      "Epoch 27, CIFAR-10 Batch 1:  Loss: [0.090614662] Validation Accuracy: 0.5395998954772949\n",
      "Epoch 28, CIFAR-10 Batch 1:  Loss: [0.11438952] Validation Accuracy: 0.5309999585151672\n",
      "Epoch 29, CIFAR-10 Batch 1:  Loss: [0.12619655] Validation Accuracy: 0.5345999598503113\n",
      "Epoch 30, CIFAR-10 Batch 1:  Loss: [0.12360161] Validation Accuracy: 0.5301999449729919\n"
     ]
    }
   ],
   "source": [
    "\"\"\"\n",
    "DON'T MODIFY ANYTHING IN THIS CELL\n",
    "\"\"\"\n",
    "print('Checking the Training on a Single Batch...')\n",
    "with tf.Session() as sess:\n",
    "    # Initializing the variables\n",
    "    sess.run(tf.global_variables_initializer())\n",
    "    \n",
    "    # Training cycle\n",
    "    for epoch in range(epochs):\n",
    "        batch_i = 1\n",
    "        for batch_features, batch_labels in helper.load_preprocess_training_batch(batch_i, batch_size):\n",
    "            train_neural_network(sess, optimizer, keep_probability, batch_features, batch_labels)\n",
    "        print('Epoch {:>2}, CIFAR-10 Batch {}:  '.format(epoch + 1, batch_i), end='')\n",
    "        print_stats(sess, batch_features, batch_labels, cost, accuracy)"
   ]
  },
  {
   "cell_type": "markdown",
   "metadata": {
    "deletable": true,
    "editable": true
   },
   "source": [
    "### Fully Train the Model\n",
    "Now that you got a good accuracy with a single CIFAR-10 batch, try it with all five batches."
   ]
  },
  {
   "cell_type": "code",
   "execution_count": null,
   "metadata": {
    "collapsed": false,
    "deletable": true,
    "editable": true
   },
   "outputs": [
    {
     "name": "stdout",
     "output_type": "stream",
     "text": [
      "Training...\n",
      "Epoch  1, CIFAR-10 Batch 1:  Loss: [1.8908522] Validation Accuracy: 0.40799999237060547\n",
      "Epoch  1, CIFAR-10 Batch 2:  Loss: [1.4871807] Validation Accuracy: 0.44919997453689575\n",
      "Epoch  1, CIFAR-10 Batch 3:  Loss: [1.3496356] Validation Accuracy: 0.49459993839263916\n",
      "Epoch  1, CIFAR-10 Batch 4:  Loss: [1.3105202] Validation Accuracy: 0.5163999199867249\n",
      "Epoch  1, CIFAR-10 Batch 5:  Loss: [1.3422519] Validation Accuracy: 0.5415999293327332\n",
      "Epoch  2, CIFAR-10 Batch 1:  Loss: [1.4547356] Validation Accuracy: 0.5339999198913574\n",
      "Epoch  2, CIFAR-10 Batch 2:  Loss: [1.1491178] Validation Accuracy: 0.532599925994873\n",
      "Epoch  2, CIFAR-10 Batch 3:  Loss: [1.1138824] Validation Accuracy: 0.5455999374389648\n",
      "Epoch  2, CIFAR-10 Batch 4:  Loss: [1.1082113] Validation Accuracy: 0.5715999603271484\n",
      "Epoch  2, CIFAR-10 Batch 5:  Loss: [1.1313018] Validation Accuracy: 0.5665999054908752\n",
      "Epoch  3, CIFAR-10 Batch 1:  Loss: [1.2883297] Validation Accuracy: 0.5775999426841736\n",
      "Epoch  3, CIFAR-10 Batch 2:  Loss: [0.95541054] Validation Accuracy: 0.577799916267395\n",
      "Epoch  3, CIFAR-10 Batch 3:  Loss: [0.9057619] Validation Accuracy: 0.5845999717712402\n",
      "Epoch  3, CIFAR-10 Batch 4:  Loss: [0.93821967] Validation Accuracy: 0.5893999338150024\n",
      "Epoch  3, CIFAR-10 Batch 5:  Loss: [0.95404303] Validation Accuracy: 0.5895999073982239\n",
      "Epoch  4, CIFAR-10 Batch 1:  Loss: [1.1788179] Validation Accuracy: 0.5989999175071716\n",
      "Epoch  4, CIFAR-10 Batch 2:  Loss: [0.82873821] Validation Accuracy: 0.5953999757766724\n",
      "Epoch  4, CIFAR-10 Batch 3:  Loss: [0.81717926] Validation Accuracy: 0.6029999256134033\n",
      "Epoch  4, CIFAR-10 Batch 4:  Loss: [0.84973335] Validation Accuracy: 0.6029999256134033\n",
      "Epoch  4, CIFAR-10 Batch 5:  Loss: [0.95230126] Validation Accuracy: 0.5955999493598938\n",
      "Epoch  5, CIFAR-10 Batch 1:  Loss: [1.0744877] Validation Accuracy: 0.6053999066352844\n",
      "Epoch  5, CIFAR-10 Batch 2:  Loss: [0.72131443] Validation Accuracy: 0.6043999195098877\n",
      "Epoch  5, CIFAR-10 Batch 3:  Loss: [0.70812863] Validation Accuracy: 0.6171999573707581\n",
      "Epoch  5, CIFAR-10 Batch 4:  Loss: [0.78524256] Validation Accuracy: 0.610599935054779\n",
      "Epoch  5, CIFAR-10 Batch 5:  Loss: [0.82358027] Validation Accuracy: 0.6131998896598816\n",
      "Epoch  6, CIFAR-10 Batch 1:  Loss: [1.0608804] Validation Accuracy: 0.614599883556366\n",
      "Epoch  6, CIFAR-10 Batch 2:  Loss: [0.69066489] Validation Accuracy: 0.6061999201774597\n",
      "Epoch  6, CIFAR-10 Batch 3:  Loss: [0.64583135] Validation Accuracy: 0.6231999397277832\n",
      "Epoch  6, CIFAR-10 Batch 4:  Loss: [0.72493857] Validation Accuracy: 0.6175999045372009\n",
      "Epoch  6, CIFAR-10 Batch 5:  Loss: [0.79314107] Validation Accuracy: 0.6105998754501343\n",
      "Epoch  7, CIFAR-10 Batch 1:  Loss: [0.94214207] Validation Accuracy: 0.6213999390602112\n",
      "Epoch  7, CIFAR-10 Batch 2:  Loss: [0.63191795] Validation Accuracy: 0.6179999113082886\n",
      "Epoch  7, CIFAR-10 Batch 3:  Loss: [0.55043882] Validation Accuracy: 0.6219999194145203\n",
      "Epoch  7, CIFAR-10 Batch 4:  Loss: [0.66235459] Validation Accuracy: 0.6207998991012573\n",
      "Epoch  7, CIFAR-10 Batch 5:  Loss: [0.76945817] Validation Accuracy: 0.6151999235153198\n",
      "Epoch  8, CIFAR-10 Batch 1:  Loss: [0.93558174] Validation Accuracy: 0.6279998421669006\n",
      "Epoch  8, CIFAR-10 Batch 2:  Loss: [0.56800282] Validation Accuracy: 0.6255998611450195\n",
      "Epoch  8, CIFAR-10 Batch 3:  Loss: [0.54375958] Validation Accuracy: 0.6221998929977417\n",
      "Epoch  8, CIFAR-10 Batch 4:  Loss: [0.63084882] Validation Accuracy: 0.6297999024391174\n",
      "Epoch  8, CIFAR-10 Batch 5:  Loss: [0.71776706] Validation Accuracy: 0.616399884223938\n",
      "Epoch  9, CIFAR-10 Batch 1:  Loss: [0.84950775] Validation Accuracy: 0.6321998834609985\n",
      "Epoch  9, CIFAR-10 Batch 2:  Loss: [0.56189388] Validation Accuracy: 0.6253999471664429\n",
      "Epoch  9, CIFAR-10 Batch 3:  Loss: [0.50982004] Validation Accuracy: 0.6249998807907104\n",
      "Epoch  9, CIFAR-10 Batch 4:  Loss: [0.59483886] Validation Accuracy: 0.6277998685836792\n",
      "Epoch  9, CIFAR-10 Batch 5:  Loss: [0.66950625] Validation Accuracy: 0.6235998868942261\n",
      "Epoch 10, CIFAR-10 Batch 1:  Loss: [0.83672071] Validation Accuracy: 0.629599928855896\n",
      "Epoch 10, CIFAR-10 Batch 2:  Loss: [0.54508042] Validation Accuracy: 0.6281999349594116\n",
      "Epoch 10, CIFAR-10 Batch 3:  Loss: [0.48922193] Validation Accuracy: 0.6225999593734741\n",
      "Epoch 10, CIFAR-10 Batch 4:  Loss: [0.60146713] Validation Accuracy: 0.6137998700141907\n",
      "Epoch 10, CIFAR-10 Batch 5:  Loss: [0.61753285] Validation Accuracy: 0.6241998672485352\n",
      "Epoch 11, CIFAR-10 Batch 1:  Loss: [0.7767278] Validation Accuracy: 0.6277999877929688\n",
      "Epoch 11, CIFAR-10 Batch 2:  Loss: [0.48843729] Validation Accuracy: 0.6251999139785767\n",
      "Epoch 11, CIFAR-10 Batch 3:  Loss: [0.46305794] Validation Accuracy: 0.6081998944282532\n",
      "Epoch 11, CIFAR-10 Batch 4:  Loss: [0.57882297] Validation Accuracy: 0.6147999167442322\n",
      "Epoch 11, CIFAR-10 Batch 5:  Loss: [0.56477487] Validation Accuracy: 0.6215999126434326\n",
      "Epoch 12, CIFAR-10 Batch 1:  Loss: [0.76235783] Validation Accuracy: 0.6297999024391174\n",
      "Epoch 12, CIFAR-10 Batch 2:  Loss: [0.44368562] Validation Accuracy: 0.6241999268531799\n",
      "Epoch 12, CIFAR-10 Batch 3:  Loss: [0.38130459] Validation Accuracy: 0.6109999418258667\n",
      "Epoch 12, CIFAR-10 Batch 4:  Loss: [0.52699059] Validation Accuracy: 0.6131999492645264\n",
      "Epoch 12, CIFAR-10 Batch 5:  Loss: [0.55665994] Validation Accuracy: 0.6187998652458191\n",
      "Epoch 13, CIFAR-10 Batch 1:  Loss: [0.69983679] Validation Accuracy: 0.6269998550415039\n",
      "Epoch 13, CIFAR-10 Batch 2:  Loss: [0.41218078] Validation Accuracy: 0.6239998936653137\n",
      "Epoch 13, CIFAR-10 Batch 3:  Loss: [0.38993359] Validation Accuracy: 0.601599931716919\n",
      "Epoch 13, CIFAR-10 Batch 4:  Loss: [0.50104022] Validation Accuracy: 0.616399884223938\n",
      "Epoch 13, CIFAR-10 Batch 5:  Loss: [0.56415367] Validation Accuracy: 0.6253999471664429\n",
      "Epoch 14, CIFAR-10 Batch 1:  Loss: [0.66412282] Validation Accuracy: 0.6301999092102051\n",
      "Epoch 14, CIFAR-10 Batch 2:  Loss: [0.38772169] Validation Accuracy: 0.6149998903274536\n",
      "Epoch 14, CIFAR-10 Batch 3:  Loss: [0.37745333] Validation Accuracy: 0.5867999196052551\n",
      "Epoch 14, CIFAR-10 Batch 4:  Loss: [0.48544839] Validation Accuracy: 0.6055998802185059\n",
      "Epoch 14, CIFAR-10 Batch 5:  Loss: [0.55001998] Validation Accuracy: 0.6273998618125916\n",
      "Epoch 15, CIFAR-10 Batch 1:  Loss: [0.67912114] Validation Accuracy: 0.6323999166488647\n",
      "Epoch 15, CIFAR-10 Batch 2:  Loss: [0.34826249] Validation Accuracy: 0.621799886226654\n",
      "Epoch 15, CIFAR-10 Batch 3:  Loss: [0.37057918] Validation Accuracy: 0.5901999473571777\n",
      "Epoch 15, CIFAR-10 Batch 4:  Loss: [0.45324862] Validation Accuracy: 0.6209998726844788\n",
      "Epoch 15, CIFAR-10 Batch 5:  Loss: [0.49381483] Validation Accuracy: 0.6139999032020569\n",
      "Epoch 16, CIFAR-10 Batch 1:  Loss: [0.61864638] Validation Accuracy: 0.6267999410629272\n",
      "Epoch 16, CIFAR-10 Batch 2:  Loss: [0.37236053] Validation Accuracy: 0.6131998896598816\n",
      "Epoch 16, CIFAR-10 Batch 3:  Loss: [0.35918894] Validation Accuracy: 0.5785999298095703\n",
      "Epoch 16, CIFAR-10 Batch 4:  Loss: [0.43561941] Validation Accuracy: 0.6257998943328857\n",
      "Epoch 16, CIFAR-10 Batch 5:  Loss: [0.49961916] Validation Accuracy: 0.6171998977661133\n",
      "Epoch 17, CIFAR-10 Batch 1:  Loss: [0.60496491] Validation Accuracy: 0.6257998943328857\n",
      "Epoch 17, CIFAR-10 Batch 2:  Loss: [0.37254721] Validation Accuracy: 0.6091999411582947\n",
      "Epoch 17, CIFAR-10 Batch 3:  Loss: [0.31965047] Validation Accuracy: 0.6035999059677124\n",
      "Epoch 17, CIFAR-10 Batch 4:  Loss: [0.39830476] Validation Accuracy: 0.6237999200820923\n",
      "Epoch 17, CIFAR-10 Batch 5:  Loss: [0.51532006] Validation Accuracy: 0.6301999092102051\n",
      "Epoch 18, CIFAR-10 Batch 1:  Loss: [0.59689355] Validation Accuracy: 0.6149998903274536\n",
      "Epoch 18, CIFAR-10 Batch 2:  Loss: [0.39998597] Validation Accuracy: 0.6157999038696289\n",
      "Epoch 18, CIFAR-10 Batch 3:  Loss: [0.31418782] Validation Accuracy: 0.5989999175071716\n",
      "Epoch 18, CIFAR-10 Batch 4:  Loss: [0.44873464] Validation Accuracy: 0.6261999011039734\n",
      "Epoch 18, CIFAR-10 Batch 5:  Loss: [0.48790753] Validation Accuracy: 0.616399884223938\n",
      "Epoch 19, CIFAR-10 Batch 1:  Loss: [0.55973303] Validation Accuracy: 0.6171998977661133\n",
      "Epoch 19, CIFAR-10 Batch 2:  Loss: [0.36737704] Validation Accuracy: 0.6167998909950256\n",
      "Epoch 19, CIFAR-10 Batch 3:  Loss: [0.27954707] Validation Accuracy: 0.6105998754501343\n",
      "Epoch 19, CIFAR-10 Batch 4:  Loss: [0.40822303] Validation Accuracy: 0.621799886226654\n",
      "Epoch 19, CIFAR-10 Batch 5:  Loss: [0.43138114] Validation Accuracy: 0.6243999004364014\n",
      "Epoch 20, CIFAR-10 Batch 1:  Loss: [0.52859092] Validation Accuracy: 0.6133999228477478\n",
      "Epoch 20, CIFAR-10 Batch 2:  Loss: [0.33769119] Validation Accuracy: 0.6191999316215515\n",
      "Epoch 20, CIFAR-10 Batch 3:  Loss: [0.26112798] Validation Accuracy: 0.6119998693466187\n",
      "Epoch 20, CIFAR-10 Batch 4:  Loss: [0.45166284] Validation Accuracy: 0.6047998666763306\n",
      "Epoch 20, CIFAR-10 Batch 5:  Loss: [0.43022513] Validation Accuracy: 0.619399905204773\n",
      "Epoch 21, CIFAR-10 Batch 1:  Loss: [0.54866159] Validation Accuracy: 0.6183999180793762\n",
      "Epoch 21, CIFAR-10 Batch 2:  Loss: [0.33997625] Validation Accuracy: 0.6121999025344849\n",
      "Epoch 21, CIFAR-10 Batch 3:  Loss: [0.25381935] Validation Accuracy: 0.5995998978614807\n",
      "Epoch 21, CIFAR-10 Batch 4:  Loss: [0.40831879] Validation Accuracy: 0.6147999167442322\n",
      "Epoch 21, CIFAR-10 Batch 5:  Loss: [0.42475706] Validation Accuracy: 0.621799886226654\n",
      "Epoch 22, CIFAR-10 Batch 1:  Loss: [0.52771789] Validation Accuracy: 0.6107999086380005\n",
      "Epoch 22, CIFAR-10 Batch 2:  Loss: [0.35395545] Validation Accuracy: 0.6145999431610107\n",
      "Epoch 22, CIFAR-10 Batch 3:  Loss: [0.25064629] Validation Accuracy: 0.6127999424934387\n",
      "Epoch 22, CIFAR-10 Batch 4:  Loss: [0.3718181] Validation Accuracy: 0.6143999099731445\n",
      "Epoch 22, CIFAR-10 Batch 5:  Loss: [0.41288805] Validation Accuracy: 0.6157998442649841\n",
      "Epoch 23, CIFAR-10 Batch 1:  Loss: [0.52605319] Validation Accuracy: 0.6189999580383301\n",
      "Epoch 23, CIFAR-10 Batch 2:  Loss: [0.37639514] Validation Accuracy: 0.6125999093055725\n",
      "Epoch 23, CIFAR-10 Batch 3:  Loss: [0.25729069] Validation Accuracy: 0.5997999310493469\n",
      "Epoch 23, CIFAR-10 Batch 4:  Loss: [0.37655434] Validation Accuracy: 0.6213999390602112\n",
      "Epoch 23, CIFAR-10 Batch 5:  Loss: [0.41812617] Validation Accuracy: 0.6261999607086182\n",
      "Epoch 24, CIFAR-10 Batch 1:  Loss: [0.49809247] Validation Accuracy: 0.6133999228477478\n",
      "Epoch 24, CIFAR-10 Batch 2:  Loss: [0.32609206] Validation Accuracy: 0.6117998957633972\n",
      "Epoch 24, CIFAR-10 Batch 3:  Loss: [0.23731175] Validation Accuracy: 0.6093999147415161\n",
      "Epoch 24, CIFAR-10 Batch 4:  Loss: [0.37586832] Validation Accuracy: 0.6071999073028564\n",
      "Epoch 24, CIFAR-10 Batch 5:  Loss: [0.41882652] Validation Accuracy: 0.6119999885559082\n",
      "Epoch 25, CIFAR-10 Batch 1:  Loss: [0.46248358] Validation Accuracy: 0.6129999160766602\n",
      "Epoch 25, CIFAR-10 Batch 2:  Loss: [0.34581459] Validation Accuracy: 0.6025999188423157\n",
      "Epoch 25, CIFAR-10 Batch 3:  Loss: [0.22093321] Validation Accuracy: 0.6083998680114746\n",
      "Epoch 25, CIFAR-10 Batch 4:  Loss: [0.33493343] Validation Accuracy: 0.6121999025344849\n",
      "Epoch 25, CIFAR-10 Batch 5:  Loss: [0.39129692] Validation Accuracy: 0.6237999200820923\n"
     ]
    }
   ],
   "source": [
    "\"\"\"\n",
    "DON'T MODIFY ANYTHING IN THIS CELL\n",
    "\"\"\"\n",
    "save_model_path = './image_classification'\n",
    "\n",
    "print('Training...')\n",
    "with tf.Session() as sess:\n",
    "    # Initializing the variables\n",
    "    sess.run(tf.global_variables_initializer())\n",
    "    \n",
    "    # Training cycle\n",
    "    for epoch in range(epochs):\n",
    "        # Loop over all batches\n",
    "        n_batches = 5\n",
    "        for batch_i in range(1, n_batches + 1):\n",
    "            for batch_features, batch_labels in helper.load_preprocess_training_batch(batch_i, batch_size):\n",
    "                train_neural_network(sess, optimizer, keep_probability, batch_features, batch_labels)\n",
    "            print('Epoch {:>2}, CIFAR-10 Batch {}:  '.format(epoch + 1, batch_i), end='')\n",
    "            print_stats(sess, batch_features, batch_labels, cost, accuracy)\n",
    "            \n",
    "    # Save Model\n",
    "    saver = tf.train.Saver()\n",
    "    save_path = saver.save(sess, save_model_path)"
   ]
  },
  {
   "cell_type": "markdown",
   "metadata": {
    "deletable": true,
    "editable": true
   },
   "source": [
    "# Checkpoint\n",
    "The model has been saved to disk.\n",
    "## Test Model\n",
    "Test your model against the test dataset.  This will be your final accuracy. You should have an accuracy greater than 50%. If you don't, keep tweaking the model architecture and parameters."
   ]
  },
  {
   "cell_type": "code",
   "execution_count": 26,
   "metadata": {
    "collapsed": false,
    "deletable": true,
    "editable": true
   },
   "outputs": [
    {
     "name": "stdout",
     "output_type": "stream",
     "text": [
      "Testing Accuracy: 0.6340981012658228\n",
      "\n"
     ]
    },
    {
     "data": {
      "image/png": "[encoded data removed]",
      "text/plain": [
       "<matplotlib.figure.Figure at 0x7f56cdb81f28>"
      ]
     },
     "metadata": {
      "image/png": {
       "height": 319,
       "width": 355
      }
     },
     "output_type": "display_data"
    }
   ],
   "source": [
    "\"\"\"\n",
    "DON'T MODIFY ANYTHING IN THIS CELL\n",
    "\"\"\"\n",
    "%matplotlib inline\n",
    "%config InlineBackend.figure_format = 'retina'\n",
    "\n",
    "import tensorflow as tf\n",
    "import pickle\n",
    "import helper\n",
    "import random\n",
    "\n",
    "# Set batch size if not already set\n",
    "try:\n",
    "    if batch_size:\n",
    "        pass\n",
    "except NameError:\n",
    "    batch_size = 64\n",
    "\n",
    "save_model_path = './image_classification'\n",
    "n_samples = 4\n",
    "top_n_predictions = 3\n",
    "\n",
    "def test_model():\n",
    "    \"\"\"\n",
    "    Test the saved model against the test dataset\n",
    "    \"\"\"\n",
    "\n",
    "    test_features, test_labels = pickle.load(open('preprocess_training.p', mode='rb'))\n",
    "    loaded_graph = tf.Graph()\n",
    "\n",
    "    with tf.Session(graph=loaded_graph) as sess:\n",
    "        # Load model\n",
    "        loader = tf.train.import_meta_graph(save_model_path + '.meta')\n",
    "        loader.restore(sess, save_model_path)\n",
    "\n",
    "        # Get Tensors from loaded model\n",
    "        loaded_x = loaded_graph.get_tensor_by_name('x:0')\n",
    "        loaded_y = loaded_graph.get_tensor_by_name('y:0')\n",
    "        loaded_keep_prob = loaded_graph.get_tensor_by_name('keep_prob:0')\n",
    "        loaded_logits = loaded_graph.get_tensor_by_name('logits:0')\n",
    "        loaded_acc = loaded_graph.get_tensor_by_name('accuracy:0')\n",
    "        \n",
    "        # Get accuracy in batches for memory limitations\n",
    "        test_batch_acc_total = 0\n",
    "        test_batch_count = 0\n",
    "        \n",
    "        for train_feature_batch, train_label_batch in helper.batch_features_labels(test_features, test_labels, batch_size):\n",
    "            test_batch_acc_total += sess.run(\n",
    "                loaded_acc,\n",
    "                feed_dict={loaded_x: train_feature_batch, loaded_y: train_label_batch, loaded_keep_prob: 1.0})\n",
    "            test_batch_count += 1\n",
    "\n",
    "        print('Testing Accuracy: {}\\n'.format(test_batch_acc_total/test_batch_count))\n",
    "\n",
    "        # Print Random Samples\n",
    "        random_test_features, random_test_labels = tuple(zip(*random.sample(list(zip(test_features, test_labels)), n_samples)))\n",
    "        random_test_predictions = sess.run(\n",
    "            tf.nn.top_k(tf.nn.softmax(loaded_logits), top_n_predictions),\n",
    "            feed_dict={loaded_x: random_test_features, loaded_y: random_test_labels, loaded_keep_prob: 1.0})\n",
    "        helper.display_image_predictions(random_test_features, random_test_labels, random_test_predictions)\n",
    "\n",
    "\n",
    "test_model()"
   ]
  },
  {
   "cell_type": "markdown",
   "metadata": {},
   "source": [
    "# Notes"
   ]
  },
  {
   "cell_type": "markdown",
   "metadata": {},
   "source": [
    "Unfortunately, I don't feel like I have a good intuition on optimal values for hyperparameters such as number of filters."
   ]
  },
  {
   "cell_type": "markdown",
   "metadata": {
    "deletable": true,
    "editable": true
   },
   "source": [
    "## Why 50-70% Accuracy?\n",
    "You might be wondering why you can't get an accuracy any higher. First things first, 50% isn't bad for a simple CNN.  Pure guessing would get you 10% accuracy. However, you might notice people are getting scores [well above 70%](http://rodrigob.github.io/are_we_there_yet/build/classification_datasets_results.html#43494641522d3130).  That's because we haven't taught you all there is to know about neural networks. We still need to cover a few more techniques.\n",
    "## Submitting This Project\n",
    "When submitting this project, make sure to run all the cells before saving the notebook.  Save the notebook file as \"dlnd_image_classification.ipynb\" and save it as a HTML file under \"File\" -> \"Download as\".  Include the \"helper.py\" and \"problem_unittests.py\" files in your submission."
   ]
  },
  {
   "cell_type": "code",
   "execution_count": null,
   "metadata": {
    "collapsed": true
   },
   "outputs": [],
   "source": []
  }
 ],
 "metadata": {
  "kernelspec": {
   "display_name": "Python 3",
   "language": "python",
   "name": "python3"
  },
  "language_info": {
   "codemirror_mode": {
    "name": "ipython",
    "version": 3
   },
   "file_extension": ".py",
   "mimetype": "text/x-python",
   "name": "python",
   "nbconvert_exporter": "python",
   "pygments_lexer": "ipython3",
   "version": "3.6.0"
  }
 },
 "nbformat": 4,
 "nbformat_minor": 0
}
