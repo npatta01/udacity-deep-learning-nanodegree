{
 "cells": [
  {
   "cell_type": "markdown",
   "metadata": {
    "deletable": true,
    "editable": true
   },
   "source": [
    "# Acknowledgment\n",
    "\n",
    "Siraj's [video](https://github.com/llSourcell/How_to_make_a_tensorflow_image_classifier_LIVE) and [notebook](https://github.com/llSourcell/How_to_make_a_tensorflow_image_classifier_LIVE)"
   ]
  },
  {
   "cell_type": "markdown",
   "metadata": {
    "collapsed": true,
    "deletable": true,
    "editable": true
   },
   "source": [
    "# Image Classification\n",
    "In this project, you'll classify images from the [CIFAR-10 dataset](https://www.cs.toronto.edu/~kriz/cifar.html).  The dataset consists of airplanes, dogs, cats, and other objects. You'll preprocess the images, then train a convolutional neural network on all the samples. The images need to be normalized and the labels need to be one-hot encoded.  You'll get to apply what you learned and build a convolutional, max pooling, dropout, and fully connected layers.  At the end, you'll get to see your neural network's predictions on the sample images.\n",
    "## Get the Data\n",
    "Run the following cell to download the [CIFAR-10 dataset for python](https://www.cs.toronto.edu/~kriz/cifar-10-python.tar.gz)."
   ]
  },
  {
   "cell_type": "code",
   "execution_count": 2,
   "metadata": {
    "collapsed": false,
    "deletable": true,
    "editable": true
   },
   "outputs": [
    {
     "name": "stdout",
     "output_type": "stream",
     "text": [
      "All files found!\n"
     ]
    }
   ],
   "source": [
    "\"\"\"\n",
    "DON'T MODIFY ANYTHING IN THIS CELL THAT IS BELOW THIS LINE\n",
    "\"\"\"\n",
    "from urllib.request import urlretrieve\n",
    "from os.path import isfile, isdir\n",
    "from tqdm import tqdm\n",
    "import problem_unittests as tests\n",
    "import tarfile\n",
    "\n",
    "cifar10_dataset_folder_path = 'cifar-10-batches-py'\n",
    "\n",
    "class DLProgress(tqdm):\n",
    "    last_block = 0\n",
    "\n",
    "    def hook(self, block_num=1, block_size=1, total_size=None):\n",
    "        self.total = total_size\n",
    "        self.update((block_num - self.last_block) * block_size)\n",
    "        self.last_block = block_num\n",
    "\n",
    "if not isfile('cifar-10-python.tar.gz'):\n",
    "    with DLProgress(unit='B', unit_scale=True, miniters=1, desc='CIFAR-10 Dataset') as pbar:\n",
    "        urlretrieve(\n",
    "            'https://www.cs.toronto.edu/~kriz/cifar-10-python.tar.gz',\n",
    "            'cifar-10-python.tar.gz',\n",
    "            pbar.hook)\n",
    "\n",
    "if not isdir(cifar10_dataset_folder_path):\n",
    "    with tarfile.open('cifar-10-python.tar.gz') as tar:\n",
    "        tar.extractall()\n",
    "        tar.close()\n",
    "\n",
    "\n",
    "tests.test_folder_path(cifar10_dataset_folder_path)"
   ]
  },
  {
   "cell_type": "markdown",
   "metadata": {
    "deletable": true,
    "editable": true
   },
   "source": [
    "## Explore the Data\n",
    "The dataset is broken into batches to prevent your machine from running out of memory.  The CIFAR-10 dataset consists of 5 batches, named `data_batch_1`, `data_batch_2`, etc.. Each batch contains the labels and images that are one of the following:\n",
    "* airplane\n",
    "* automobile\n",
    "* bird\n",
    "* cat\n",
    "* deer\n",
    "* dog\n",
    "* frog\n",
    "* horse\n",
    "* ship\n",
    "* truck\n",
    "\n",
    "Understanding a dataset is part of making predictions on the data.  Play around with the code cell below by changing the `batch_id` and `sample_id`. The `batch_id` is the id for a batch (1-5). The `sample_id` is the id for a image and label pair in the batch.\n",
    "\n",
    "Ask yourself \"What are all possible labels?\", \"What is the range of values for the image data?\", \"Are the labels in order or random?\".  Answers to questions like these will help you preprocess the data and end up with better predictions."
   ]
  },
  {
   "cell_type": "code",
   "execution_count": 3,
   "metadata": {
    "collapsed": false,
    "deletable": true,
    "editable": true
   },
   "outputs": [
    {
     "name": "stdout",
     "output_type": "stream",
     "text": [
      "\n",
      "Stats of batch 1:\n",
      "Samples: 10000\n",
      "Label Counts: {0: 1005, 1: 974, 2: 1032, 3: 1016, 4: 999, 5: 937, 6: 1030, 7: 1001, 8: 1025, 9: 981}\n",
      "First 20 Labels: [6, 9, 9, 4, 1, 1, 2, 7, 8, 3, 4, 7, 7, 2, 9, 9, 9, 3, 2, 6]\n",
      "\n",
      "Example of Image 5:\n",
      "Image - Min Value: 0 Max Value: 252\n",
      "Image - Shape: (32, 32, 3)\n",
      "Label - Label Id: 1 Name: automobile\n"
     ]
    },
    {
     "data": {
      "image/png": "[encoded data removed]",
      "text/plain": [
       "<matplotlib.figure.Figure at 0x7fd3f9fe17b8>"
      ]
     },
     "metadata": {
      "image/png": {
       "height": 250,
       "width": 253
      }
     },
     "output_type": "display_data"
    }
   ],
   "source": [
    "%matplotlib inline\n",
    "%config InlineBackend.figure_format = 'retina'\n",
    "\n",
    "import helper\n",
    "import numpy as np\n",
    "\n",
    "# Explore the dataset\n",
    "batch_id = 1\n",
    "sample_id = 5\n",
    "num_classes =10\n",
    "helper.display_stats(cifar10_dataset_folder_path, batch_id, sample_id)"
   ]
  },
  {
   "cell_type": "markdown",
   "metadata": {
    "deletable": true,
    "editable": true
   },
   "source": [
    "## Implement Preprocess Functions\n",
    "### Normalize\n",
    "In the cell below, implement the `normalize` function to take in image data, `x`, and return it as a normalized Numpy array. The values should be in the range of 0 to 1, inclusive.  The return object should be the same shape as `x`."
   ]
  },
  {
   "cell_type": "code",
   "execution_count": 4,
   "metadata": {
    "collapsed": false,
    "deletable": true,
    "editable": true
   },
   "outputs": [
    {
     "name": "stdout",
     "output_type": "stream",
     "text": [
      "Tests Passed\n"
     ]
    }
   ],
   "source": [
    "def normalize(x):\n",
    "    \"\"\"\n",
    "    Normalize a list of sample image data in the range of 0 to 1\n",
    "    : x: List of image data.  The image shape is (32, 32, 3)\n",
    "    : return: Numpy array of normalize data\n",
    "    \"\"\"\n",
    "    # TODO: Implement Function\n",
    "    range_start =0 \n",
    "    range_end =1\n",
    "    \n",
    "    image_min = 0\n",
    "    image_max = 255\n",
    "    \n",
    "    val = range_start + ((x - image_min)*(range_end - range_start) / (image_max- image_min))\n",
    "    # same as x/image_max\n",
    "    return val\n",
    "\n",
    "\"\"\"\n",
    "DON'T MODIFY ANYTHING IN THIS CELL THAT IS BELOW THIS LINE\n",
    "\"\"\"\n",
    "tests.test_normalize(normalize)"
   ]
  },
  {
   "cell_type": "markdown",
   "metadata": {
    "deletable": true,
    "editable": true
   },
   "source": [
    "### One-hot encode\n",
    "Just like the previous code cell, you'll be implementing a function for preprocessing.  This time, you'll implement the `one_hot_encode` function. The input, `x`, are a list of labels.  Implement the function to return the list of labels as One-Hot encoded Numpy array.  The possible values for labels are 0 to 9. The one-hot encoding function should return the same encoding for each value between each call to `one_hot_encode`.  Make sure to save the map of encodings outside the function.\n",
    "\n",
    "Hint: Don't reinvent the wheel."
   ]
  },
  {
   "cell_type": "code",
   "execution_count": 5,
   "metadata": {
    "collapsed": false,
    "deletable": true,
    "editable": true
   },
   "outputs": [
    {
     "name": "stdout",
     "output_type": "stream",
     "text": [
      "Tests Passed\n"
     ]
    }
   ],
   "source": [
    "def one_hot_encode(x):\n",
    "    \"\"\"\n",
    "    One hot encode a list of sample labels. Return a one-hot encoded vector for each label.\n",
    "    : x: List of sample Labels\n",
    "    : return: Numpy array of one-hot encoded labels\n",
    "    \"\"\"\n",
    "    # TODO: Implement Function\n",
    "    \n",
    "    # create a diagonal matrix .. then get column\n",
    "    val = np.eye(num_classes)[x]\n",
    "    return val\n",
    "\n",
    "\"\"\"\n",
    "DON'T MODIFY ANYTHING IN THIS CELL THAT IS BELOW THIS LINE\n",
    "\"\"\"\n",
    "tests.test_one_hot_encode(one_hot_encode)"
   ]
  },
  {
   "cell_type": "markdown",
   "metadata": {
    "deletable": true,
    "editable": true
   },
   "source": [
    "### Randomize Data\n",
    "As you saw from exploring the data above, the order of the samples are randomized.  It doesn't hurt to randomize it again, but you don't need to for this dataset."
   ]
  },
  {
   "cell_type": "markdown",
   "metadata": {
    "deletable": true,
    "editable": true
   },
   "source": [
    "## Preprocess all the data and save it\n",
    "Running the code cell below will preprocess all the CIFAR-10 data and save it to file. The code below also uses 10% of the training data for validation."
   ]
  },
  {
   "cell_type": "code",
   "execution_count": 6,
   "metadata": {
    "collapsed": false,
    "deletable": true,
    "editable": true
   },
   "outputs": [],
   "source": [
    "\"\"\"\n",
    "DON'T MODIFY ANYTHING IN THIS CELL\n",
    "\"\"\"\n",
    "# Preprocess Training, Validation, and Testing Data\n",
    "helper.preprocess_and_save_data(cifar10_dataset_folder_path, normalize, one_hot_encode)"
   ]
  },
  {
   "cell_type": "markdown",
   "metadata": {
    "deletable": true,
    "editable": true
   },
   "source": [
    "# Check Point\n",
    "This is your first checkpoint.  If you ever decide to come back to this notebook or have to restart the notebook, you can start from here.  The preprocessed data has been saved to disk."
   ]
  },
  {
   "cell_type": "code",
   "execution_count": 7,
   "metadata": {
    "collapsed": true,
    "deletable": true,
    "editable": true
   },
   "outputs": [],
   "source": [
    "\"\"\"\n",
    "DON'T MODIFY ANYTHING IN THIS CELL\n",
    "\"\"\"\n",
    "import pickle\n",
    "import problem_unittests as tests\n",
    "import helper\n",
    "\n",
    "# Load the Preprocessed Validation data\n",
    "valid_features, valid_labels = pickle.load(open('preprocess_validation.p', mode='rb'))"
   ]
  },
  {
   "cell_type": "markdown",
   "metadata": {
    "deletable": true,
    "editable": true
   },
   "source": [
    "## Build the network\n",
    "For the neural network, you'll build each layer into a function.  Most of the code you've seen has been outside of functions. To test your code more thoroughly, we require that you put each layer in a function.  This allows us to give you better feedback and test for simple mistakes using our unittests before you submit your project.\n",
    "\n",
    ">**Note:** If you're finding it hard to dedicate enough time for this course each week, we've provided a small shortcut to this part of the project. In the next couple of problems, you'll have the option to use classes from the [TensorFlow Layers](https://www.tensorflow.org/api_docs/python/tf/layers) or [TensorFlow Layers (contrib)](https://www.tensorflow.org/api_guides/python/contrib.layers) packages to build each layer, except the layers you build in the \"Convolutional and Max Pooling Layer\" section.  TF Layers is similar to Keras's and TFLearn's abstraction to layers, so it's easy to pickup.\n",
    "\n",
    ">However, if you would like to get the most out of this course, try to solve all the problems _without_ using anything from the TF Layers packages. You **can** still use classes from other packages that happen to have the same name as ones you find in TF Layers! For example, instead of using the TF Layers version of the `conv2d` class, [tf.layers.conv2d](https://www.tensorflow.org/api_docs/python/tf/layers/conv2d), you would want to use the TF Neural Network version of `conv2d`, [tf.nn.conv2d](https://www.tensorflow.org/api_docs/python/tf/nn/conv2d). \n",
    "\n",
    "Let's begin!\n",
    "\n",
    "### Input\n",
    "The neural network needs to read the image data, one-hot encoded labels, and dropout keep probability. Implement the following functions\n",
    "* Implement `neural_net_image_input`\n",
    " * Return a [TF Placeholder](https://www.tensorflow.org/api_docs/python/tf/placeholder)\n",
    " * Set the shape using `image_shape` with batch size set to `None`.\n",
    " * Name the TensorFlow placeholder \"x\" using the TensorFlow `name` parameter in the [TF Placeholder](https://www.tensorflow.org/api_docs/python/tf/placeholder).\n",
    "* Implement `neural_net_label_input`\n",
    " * Return a [TF Placeholder](https://www.tensorflow.org/api_docs/python/tf/placeholder)\n",
    " * Set the shape using `n_classes` with batch size set to `None`.\n",
    " * Name the TensorFlow placeholder \"y\" using the TensorFlow `name` parameter in the [TF Placeholder](https://www.tensorflow.org/api_docs/python/tf/placeholder).\n",
    "* Implement `neural_net_keep_prob_input`\n",
    " * Return a [TF Placeholder](https://www.tensorflow.org/api_docs/python/tf/placeholder) for dropout keep probability.\n",
    " * Name the TensorFlow placeholder \"keep_prob\" using the TensorFlow `name` parameter in the [TF Placeholder](https://www.tensorflow.org/api_docs/python/tf/placeholder).\n",
    "\n",
    "These names will be used at the end of the project to load your saved model.\n",
    "\n",
    "Note: `None` for shapes in TensorFlow allow for a dynamic size."
   ]
  },
  {
   "cell_type": "code",
   "execution_count": 8,
   "metadata": {
    "collapsed": false,
    "deletable": true,
    "editable": true
   },
   "outputs": [
    {
     "name": "stdout",
     "output_type": "stream",
     "text": [
      "Image Input Tests Passed.\n",
      "Label Input Tests Passed.\n",
      "Keep Prob Tests Passed.\n"
     ]
    }
   ],
   "source": [
    "import tensorflow as tf\n",
    "\n",
    "def neural_net_image_input(image_shape):\n",
    "    \"\"\"\n",
    "    Return a Tensor for a bach of image input\n",
    "    : image_shape: Shape of the images\n",
    "    : return: Tensor for image input.\n",
    "    \"\"\"\n",
    "    # TODO: Implement Function\n",
    "    (height,width,color_dims) = image_shape\n",
    "    return tf.placeholder(tf.float32, shape=[None, height,width,color_dims], name='x')\n",
    "\n",
    "\n",
    "def neural_net_label_input(n_classes):\n",
    "    \"\"\"\n",
    "    Return a Tensor for a batch of label input\n",
    "    : n_classes: Number of classes\n",
    "    : return: Tensor for label input.\n",
    "    \"\"\"\n",
    "    # TODO: Implement Function\n",
    "    return tf.placeholder(tf.float32, shape=[None, n_classes], name='y')\n",
    "\n",
    "\n",
    "def neural_net_keep_prob_input():\n",
    "    \"\"\"\n",
    "    Return a Tensor for keep probability\n",
    "    : return: Tensor for keep probability.\n",
    "    \"\"\"\n",
    "    # TODO: Implement Function\n",
    "    return tf.placeholder(tf.float32,name='keep_prob') \n",
    "\n",
    "\n",
    "\"\"\"\n",
    "DON'T MODIFY ANYTHING IN THIS CELL THAT IS BELOW THIS LINE\n",
    "\"\"\"\n",
    "tf.reset_default_graph()\n",
    "tests.test_nn_image_inputs(neural_net_image_input)\n",
    "tests.test_nn_label_inputs(neural_net_label_input)\n",
    "tests.test_nn_keep_prob_inputs(neural_net_keep_prob_input)"
   ]
  },
  {
   "cell_type": "markdown",
   "metadata": {
    "deletable": true,
    "editable": true
   },
   "source": [
    "### Convolution and Max Pooling Layer\n",
    "Convolution layers have a lot of success with images. For this code cell, you should implement the function `conv2d_maxpool` to apply convolution then max pooling:\n",
    "* Create the weight and bias using `conv_ksize`, `conv_num_outputs` and the shape of `x_tensor`.\n",
    "* Apply a convolution to `x_tensor` using weight and `conv_strides`.\n",
    " * We recommend you use same padding, but you're welcome to use any padding.\n",
    "* Add bias\n",
    "* Add a nonlinear activation to the convolution.\n",
    "* Apply Max Pooling using `pool_ksize` and `pool_strides`.\n",
    " * We recommend you use same padding, but you're welcome to use any padding.\n",
    "\n",
    "**Note:** You **can't** use [TensorFlow Layers](https://www.tensorflow.org/api_docs/python/tf/layers) or [TensorFlow Layers (contrib)](https://www.tensorflow.org/api_guides/python/contrib.layers) for **this** layer, but you can still use TensorFlow's [Neural Network](https://www.tensorflow.org/api_docs/python/tf/nn) package. You may still use the shortcut option for all the **other** layers."
   ]
  },
  {
   "cell_type": "code",
   "execution_count": 9,
   "metadata": {
    "collapsed": false,
    "deletable": true,
    "editable": true
   },
   "outputs": [
    {
     "name": "stdout",
     "output_type": "stream",
     "text": [
      "Tests Passed\n"
     ]
    }
   ],
   "source": [
    "def conv2d_maxpool(x_tensor, conv_num_outputs, conv_ksize, conv_strides, pool_ksize, pool_strides):\n",
    "    \"\"\"\n",
    "    Apply convolution then max pooling to x_tensor\n",
    "    :param x_tensor: TensorFlow Tensor\n",
    "    :param conv_num_outputs: Number of outputs for the convolutional layer\n",
    "    :param conv_ksize: kernal size 2-D Tuple for the convolutional layer\n",
    "    :param conv_strides: Stride 2-D Tuple for convolution\n",
    "    :param pool_ksize: kernal size 2-D Tuple for pool\n",
    "    :param pool_strides: Stride 2-D Tuple for pool\n",
    "    : return: A tensor that represents convolution and max pooling of x_tensor\n",
    "    \"\"\"\n",
    "    # TODO: Implement Function\n",
    "    color_channels = x_tensor.get_shape().as_list()[3]\n",
    "    \n",
    "    # Convolution filter\n",
    "    filter_size_width = conv_ksize[0]\n",
    "    filter_size_height = conv_ksize[1]\n",
    "    \n",
    "    # Weight and bias\n",
    "    \n",
    "    #default stdev is 1 .. \n",
    "    # (according to forums and slack), stdev needs to be less than 0.1,otherwise will be stuck learning\n",
    "    weights = tf.Variable(tf.truncated_normal(\n",
    "       [filter_size_width ,filter_size_height, color_channels, conv_num_outputs], stddev=0.05,mean=0))\n",
    "    \n",
    "     \n",
    "    biases = tf.Variable(tf.zeros([conv_num_outputs]))\n",
    "    \n",
    "    layer = tf.nn.conv2d(input=x_tensor,\n",
    "                         filter=weights,\n",
    "                         strides=[1,conv_strides[0],conv_strides[1],1],\n",
    "                         padding='SAME')\n",
    "    \n",
    "    # Add the biases to the results of the convolution.\n",
    "    # A bias-value is added to each filter-channel.\n",
    "    layer += biases\n",
    "    \n",
    "    pool_size_width = pool_ksize[0]\n",
    "    pool_size_height = pool_ksize[1]\n",
    "    \n",
    "    \n",
    "    (pool_strides_x,pool_strides_y) = pool_strides\n",
    "\n",
    "    layer = tf.nn.relu(layer)\n",
    "\n",
    "    layer = tf.nn.max_pool(value=layer,\n",
    "                       ksize=[1, pool_size_width,pool_size_height, 1],\n",
    "                       strides=[1, pool_strides_x, pool_strides_y, 1],padding='SAME')\n",
    "    \n",
    "    return layer \n",
    "\n",
    "\n",
    "\"\"\"\n",
    "DON'T MODIFY ANYTHING IN THIS CELL THAT IS BELOW THIS LINE\n",
    "\"\"\"\n",
    "tests.test_con_pool(conv2d_maxpool)"
   ]
  },
  {
   "cell_type": "markdown",
   "metadata": {
    "deletable": true,
    "editable": true
   },
   "source": [
    "### Flatten Layer\n",
    "Implement the `flatten` function to change the dimension of `x_tensor` from a 4-D tensor to a 2-D tensor.  The output should be the shape (*Batch Size*, *Flattened Image Size*). Shortcut option: you can use classes from the [TensorFlow Layers](https://www.tensorflow.org/api_docs/python/tf/layers) or [TensorFlow Layers (contrib)](https://www.tensorflow.org/api_guides/python/contrib.layers) packages for this layer. For more of a challenge, only use other TensorFlow packages."
   ]
  },
  {
   "cell_type": "code",
   "execution_count": 10,
   "metadata": {
    "collapsed": false,
    "deletable": true,
    "editable": true
   },
   "outputs": [
    {
     "name": "stdout",
     "output_type": "stream",
     "text": [
      "Tests Passed\n"
     ]
    }
   ],
   "source": [
    "def flatten(x_tensor):\n",
    "    \"\"\"\n",
    "    Flatten x_tensor to (Batch Size, Flattened Image Size)\n",
    "    : x_tensor: A tensor of size (Batch Size, ...), where ... are the image dimensions.\n",
    "    : return: A tensor of size (Batch Size, Flattened Image Size).\n",
    "    \"\"\"\n",
    "    # TODO: Implement Function\n",
    "    \n",
    "    layer_shape = x_tensor.get_shape()\n",
    "    \n",
    "    # The number of features is: img_height * img_width * num_channels\n",
    "    # We can use a function from TensorFlow to calculate this.\n",
    "    num_features = layer_shape[1:4].num_elements()\n",
    "    \n",
    "    # Reshape the layer to [num_images, num_features].\n",
    "    # Note that we just set the size of the second dimension\n",
    "    # to num_features and the size of the first dimension to -1\n",
    "    # which means the size in that dimension is calculated\n",
    "    # so the total size of the tensor is unchanged from the reshaping.\n",
    "    layer_flat = tf.reshape(x_tensor, [-1, num_features])\n",
    "    \n",
    "    return layer_flat\n",
    "\n",
    "\n",
    "\"\"\"\n",
    "DON'T MODIFY ANYTHING IN THIS CELL THAT IS BELOW THIS LINE\n",
    "\"\"\"\n",
    "tests.test_flatten(flatten)"
   ]
  },
  {
   "cell_type": "markdown",
   "metadata": {
    "deletable": true,
    "editable": true
   },
   "source": [
    "### Fully-Connected Layer\n",
    "Implement the `fully_conn` function to apply a fully connected layer to `x_tensor` with the shape (*Batch Size*, *num_outputs*). Shortcut option: you can use classes from the [TensorFlow Layers](https://www.tensorflow.org/api_docs/python/tf/layers) or [TensorFlow Layers (contrib)](https://www.tensorflow.org/api_guides/python/contrib.layers) packages for this layer. For more of a challenge, only use other TensorFlow packages."
   ]
  },
  {
   "cell_type": "code",
   "execution_count": 11,
   "metadata": {
    "collapsed": false,
    "deletable": true,
    "editable": true
   },
   "outputs": [
    {
     "name": "stdout",
     "output_type": "stream",
     "text": [
      "Tests Passed\n"
     ]
    }
   ],
   "source": [
    "def fully_conn(x_tensor, num_outputs):\n",
    "    \"\"\"\n",
    "    Apply a fully connected layer to x_tensor using weight and bias\n",
    "    : x_tensor: A 2-D tensor where the first dimension is batch size.\n",
    "    : num_outputs: The number of output that the new tensor should be.\n",
    "    : return: A 2-D tensor where the second dimension is num_outputs.\n",
    "    \"\"\"\n",
    "    # TODO: Implement Function\n",
    "    \n",
    "    (batch_size,num_inputs) = x_tensor.get_shape().as_list()\n",
    "    \n",
    "    weights = tf.Variable(tf.truncated_normal(\n",
    "       [num_inputs , num_outputs],stddev=0.05))\n",
    "    \n",
    "    biases = tf.Variable(tf.zeros(num_outputs))\n",
    "\n",
    "    # Calculate the layer as the matrix multiplication of\n",
    "    # the input and weights, and then add the bias-values.\n",
    "    layer = tf.add( tf.matmul(x_tensor, weights) , biases)\n",
    "    \n",
    "    layer = tf.nn.relu(layer)\n",
    "\n",
    "    \n",
    "    return layer\n",
    "\n",
    "\n",
    "\"\"\"\n",
    "DON'T MODIFY ANYTHING IN THIS CELL THAT IS BELOW THIS LINE\n",
    "\"\"\"\n",
    "tests.test_fully_conn(fully_conn)"
   ]
  },
  {
   "cell_type": "markdown",
   "metadata": {
    "deletable": true,
    "editable": true
   },
   "source": [
    "### Output Layer\n",
    "Implement the `output` function to apply a fully connected layer to `x_tensor` with the shape (*Batch Size*, *num_outputs*). Shortcut option: you can use classes from the [TensorFlow Layers](https://www.tensorflow.org/api_docs/python/tf/layers) or [TensorFlow Layers (contrib)](https://www.tensorflow.org/api_guides/python/contrib.layers) packages for this layer. For more of a challenge, only use other TensorFlow packages.\n",
    "\n",
    "**Note:** Activation, softmax, or cross entropy should **not** be applied to this."
   ]
  },
  {
   "cell_type": "code",
   "execution_count": 12,
   "metadata": {
    "collapsed": false,
    "deletable": true,
    "editable": true
   },
   "outputs": [
    {
     "name": "stdout",
     "output_type": "stream",
     "text": [
      "Tests Passed\n"
     ]
    }
   ],
   "source": [
    "def output(x_tensor, num_outputs):\n",
    "    \"\"\"\n",
    "    Apply a output layer to x_tensor using weight and bias\n",
    "    : x_tensor: A 2-D tensor where the first dimension is batch size.\n",
    "    : num_outputs: The number of output that the new tensor should be.\n",
    "    : return: A 2-D tensor where the second dimension is num_outputs.\n",
    "    \"\"\"\n",
    "    # TODO: Implement Function\n",
    " \n",
    "    return fully_conn(x_tensor,num_outputs)\n",
    "\n",
    "\"\"\"\n",
    "DON'T MODIFY ANYTHING IN THIS CELL THAT IS BELOW THIS LINE\n",
    "\"\"\"\n",
    "tests.test_output(output)"
   ]
  },
  {
   "cell_type": "markdown",
   "metadata": {
    "deletable": true,
    "editable": true
   },
   "source": [
    "### Create Convolutional Model\n",
    "Implement the function `conv_net` to create a convolutional neural network model. The function takes in a batch of images, `x`, and outputs logits.  Use the layers you created above to create this model:\n",
    "\n",
    "* Apply 1, 2, or 3 Convolution and Max Pool layers\n",
    "* Apply a Flatten Layer\n",
    "* Apply 1, 2, or 3 Fully Connected Layers\n",
    "* Apply an Output Layer\n",
    "* Return the output\n",
    "* Apply [TensorFlow's Dropout](https://www.tensorflow.org/api_docs/python/tf/nn/dropout) to one or more layers in the model using `keep_prob`. "
   ]
  },
  {
   "cell_type": "code",
   "execution_count": 13,
   "metadata": {
    "collapsed": false,
    "deletable": true,
    "editable": true
   },
   "outputs": [
    {
     "name": "stdout",
     "output_type": "stream",
     "text": [
      "Neural Network Built!\n"
     ]
    }
   ],
   "source": [
    "def conv_net(x, keep_prob):\n",
    "    \"\"\"\n",
    "    Create a convolutional neural network model\n",
    "    : x: Placeholder tensor that holds image data.\n",
    "    : keep_prob: Placeholder tensor that hold dropout keep probability.\n",
    "    : return: Tensor that represents logits\n",
    "    \"\"\"\n",
    "    \n",
    "    x_tensor = x\n",
    "    \n",
    "    conv_num_outputs1 = 64\n",
    "    conv_num_outputs2 = 64\n",
    "    \n",
    "    conv_ksize = (5,5)\n",
    "    conv_strides = (2,2)\n",
    "    \n",
    "    pool_ksize = (2,2)\n",
    "    pool_strides = (2,2) \n",
    "\n",
    "    \n",
    "    # TODO: Apply 1, 2, or 3 Convolution and Max Pool layers\n",
    "    #    Play around with different number of outputs, kernel size and stride\n",
    "    # Function Definition from Above:\n",
    "    conv1 = conv2d_maxpool(x_tensor, conv_num_outputs1, conv_ksize, conv_strides, pool_ksize, pool_strides)\n",
    "    conv2 = conv2d_maxpool(conv1,conv_num_outputs2, conv_ksize, conv_strides, pool_ksize, pool_strides)\n",
    "    \n",
    "    # TODO: Apply a Flatten Layer\n",
    "    # Function Definition from Above:\n",
    "    flat1 = flatten(conv1)\n",
    "    \n",
    "    # TODO: Apply 1, 2, or 3 Fully Connected Layers\n",
    "    #    Play around with different number of outputs\n",
    "    # Function Definition from Above:\n",
    "    fc1 = fully_conn(flat1, 256)\n",
    "    fc1 = tf.nn.dropout(fc1, keep_prob)\n",
    "    \n",
    "    fc2 = fully_conn(fc1, 128)\n",
    "    fc2 = tf.nn.dropout(fc2, keep_prob)\n",
    "    \n",
    "    fc3 = fully_conn(fc1, 64)\n",
    "    fc3 = tf.nn.dropout(fc2, keep_prob)\n",
    "    \n",
    "    # TODO: Apply an Output Layer\n",
    "    #    Set this to the number of classes\n",
    "    # Function Definition from Above:\n",
    "    out = output(fc1, num_outputs=num_classes)\n",
    "    \n",
    "    # TODO: return output\n",
    "    return out\n",
    "\n",
    "\n",
    "\n",
    "\"\"\"\n",
    "DON'T MODIFY ANYTHING IN THIS CELL THAT IS BELOW THIS LINE\n",
    "\"\"\"\n",
    "\n",
    "##############################\n",
    "## Build the Neural Network ##\n",
    "##############################\n",
    "\n",
    "# Remove previous weights, bias, inputs, etc..\n",
    "tf.reset_default_graph()\n",
    "\n",
    "# Inputs\n",
    "x = neural_net_image_input((32, 32, 3))\n",
    "y = neural_net_label_input(10)\n",
    "keep_prob = neural_net_keep_prob_input()\n",
    "\n",
    "# Model\n",
    "logits = conv_net(x, keep_prob)\n",
    "\n",
    "# Name logits Tensor, so that is can be loaded from disk after training\n",
    "logits = tf.identity(logits, name='logits')\n",
    "\n",
    "# Loss and Optimizer\n",
    "cost = tf.reduce_mean(tf.nn.softmax_cross_entropy_with_logits(logits=logits, labels=y))\n",
    "optimizer = tf.train.AdamOptimizer().minimize(cost)\n",
    "\n",
    "# Accuracy\n",
    "correct_pred = tf.equal(tf.argmax(logits, 1), tf.argmax(y, 1))\n",
    "accuracy = tf.reduce_mean(tf.cast(correct_pred, tf.float32), name='accuracy')\n",
    "\n",
    "tests.test_conv_net(conv_net)"
   ]
  },
  {
   "cell_type": "markdown",
   "metadata": {
    "deletable": true,
    "editable": true
   },
   "source": [
    "## Train the Neural Network\n",
    "### Single Optimization\n",
    "Implement the function `train_neural_network` to do a single optimization.  The optimization should use `optimizer` to optimize in `session` with a `feed_dict` of the following:\n",
    "* `x` for image input\n",
    "* `y` for labels\n",
    "* `keep_prob` for keep probability for dropout\n",
    "\n",
    "This function will be called for each batch, so `tf.global_variables_initializer()` has already been called.\n",
    "\n",
    "Note: Nothing needs to be returned. This function is only optimizing the neural network."
   ]
  },
  {
   "cell_type": "code",
   "execution_count": 14,
   "metadata": {
    "collapsed": false,
    "deletable": true,
    "editable": true
   },
   "outputs": [
    {
     "name": "stdout",
     "output_type": "stream",
     "text": [
      "Tests Passed\n"
     ]
    }
   ],
   "source": [
    "def train_neural_network(session, optimizer, keep_probability, feature_batch, label_batch):\n",
    "    \"\"\"\n",
    "    Optimize the session on a batch of images and labels\n",
    "    : session: Current TensorFlow session\n",
    "    : optimizer: TensorFlow optimizer function\n",
    "    : keep_probability: keep probability\n",
    "    : feature_batch: Batch of Numpy image data\n",
    "    : label_batch: Batch of Numpy label data\n",
    "    \"\"\"\n",
    "    # TODO: Implement Function\n",
    "    \n",
    "    session.run(optimizer, feed_dict={x: feature_batch, y: label_batch,\n",
    "                                       keep_prob: keep_probability})\n",
    "\n",
    "\n",
    "\n",
    "\"\"\"\n",
    "DON'T MODIFY ANYTHING IN THIS CELL THAT IS BELOW THIS LINE\n",
    "\"\"\"\n",
    "tests.test_train_nn(train_neural_network)"
   ]
  },
  {
   "cell_type": "markdown",
   "metadata": {
    "deletable": true,
    "editable": true
   },
   "source": [
    "### Show Stats\n",
    "Implement the function `print_stats` to print loss and validation accuracy.  Use the global variables `valid_features` and `valid_labels` to calculate validation accuracy.  Use a keep probability of `1.0` to calculate the loss and validation accuracy."
   ]
  },
  {
   "cell_type": "code",
   "execution_count": 15,
   "metadata": {
    "collapsed": false,
    "deletable": true,
    "editable": true
   },
   "outputs": [],
   "source": [
    "def print_stats(session, feature_batch, label_batch, cost, accuracy):\n",
    "    \"\"\"\n",
    "    Print information about loss and validation accuracy\n",
    "    : session: Current TensorFlow session\n",
    "    : feature_batch: Batch of Numpy image data\n",
    "    : label_batch: Batch of Numpy label data\n",
    "    : cost: TensorFlow cost function\n",
    "    : accuracy: TensorFlow accuracy function\n",
    "    \"\"\"\n",
    "    \n",
    "\n",
    "    loss = sess.run([cost], feed_dict={x: feature_batch,\n",
    "                                                              y: label_batch,\n",
    "                                                              keep_prob: 1.})\n",
    "    \n",
    "    \n",
    "    acc = sess.run( accuracy, feed_dict={x: valid_features,\n",
    "                                                              y: valid_labels,\n",
    "                                                              keep_prob: 1.})\n",
    "    \n",
    "    print('Loss: {} Validation Accuracy: {}'.format(loss, acc))\n"
   ]
  },
  {
   "cell_type": "markdown",
   "metadata": {
    "deletable": true,
    "editable": true
   },
   "source": [
    "### Hyperparameters\n",
    "Tune the following parameters:\n",
    "* Set `epochs` to the number of iterations until the network stops learning or start overfitting\n",
    "* Set `batch_size` to the highest number that your machine has memory for.  Most people set them to common sizes of memory:\n",
    " * 64\n",
    " * 128\n",
    " * 256\n",
    " * ...\n",
    "* Set `keep_probability` to the probability of keeping a node using dropout"
   ]
  },
  {
   "cell_type": "code",
   "execution_count": 16,
   "metadata": {
    "collapsed": true,
    "deletable": true,
    "editable": true
   },
   "outputs": [],
   "source": [
    "# TODO: Tune Parameters\n",
    "epochs = 25\n",
    "batch_size = 128\n",
    "keep_probability = 0.6"
   ]
  },
  {
   "cell_type": "markdown",
   "metadata": {
    "deletable": true,
    "editable": true
   },
   "source": [
    "### Train on a Single CIFAR-10 Batch\n",
    "Instead of training the neural network on all the CIFAR-10 batches of data, let's use a single batch. This should save time while you iterate on the model to get a better accuracy.  Once the final validation accuracy is 50% or greater, run the model on all the data in the next section."
   ]
  },
  {
   "cell_type": "code",
   "execution_count": 17,
   "metadata": {
    "collapsed": false,
    "deletable": true,
    "editable": true
   },
   "outputs": [
    {
     "name": "stdout",
     "output_type": "stream",
     "text": [
      "Checking the Training on a Single Batch...\n",
      "Epoch  1, CIFAR-10 Batch 1:  Loss: [2.1379919] Validation Accuracy: 0.29180002212524414\n",
      "Epoch  2, CIFAR-10 Batch 1:  Loss: [1.9285159] Validation Accuracy: 0.33779996633529663\n",
      "Epoch  3, CIFAR-10 Batch 1:  Loss: [1.8399141] Validation Accuracy: 0.3611999750137329\n",
      "Epoch  4, CIFAR-10 Batch 1:  Loss: [1.7361418] Validation Accuracy: 0.382999986410141\n",
      "Epoch  5, CIFAR-10 Batch 1:  Loss: [1.6452898] Validation Accuracy: 0.3830000162124634\n",
      "Epoch  6, CIFAR-10 Batch 1:  Loss: [1.481272] Validation Accuracy: 0.4205999970436096\n",
      "Epoch  7, CIFAR-10 Batch 1:  Loss: [1.3752695] Validation Accuracy: 0.43219995498657227\n",
      "Epoch  8, CIFAR-10 Batch 1:  Loss: [1.2114815] Validation Accuracy: 0.46779996156692505\n",
      "Epoch  9, CIFAR-10 Batch 1:  Loss: [1.1128385] Validation Accuracy: 0.4705999791622162\n",
      "Epoch 10, CIFAR-10 Batch 1:  Loss: [1.0174006] Validation Accuracy: 0.47819992899894714\n",
      "Epoch 11, CIFAR-10 Batch 1:  Loss: [0.96565461] Validation Accuracy: 0.4893999397754669\n",
      "Epoch 12, CIFAR-10 Batch 1:  Loss: [0.8774811] Validation Accuracy: 0.5039999485015869\n",
      "Epoch 13, CIFAR-10 Batch 1:  Loss: [0.77050978] Validation Accuracy: 0.5089999437332153\n",
      "Epoch 14, CIFAR-10 Batch 1:  Loss: [0.68968427] Validation Accuracy: 0.5115998983383179\n",
      "Epoch 15, CIFAR-10 Batch 1:  Loss: [0.64011121] Validation Accuracy: 0.5101999640464783\n",
      "Epoch 16, CIFAR-10 Batch 1:  Loss: [0.55879694] Validation Accuracy: 0.5105999708175659\n",
      "Epoch 17, CIFAR-10 Batch 1:  Loss: [0.53844655] Validation Accuracy: 0.5229999423027039\n",
      "Epoch 18, CIFAR-10 Batch 1:  Loss: [0.43633968] Validation Accuracy: 0.5611999034881592\n",
      "Epoch 19, CIFAR-10 Batch 1:  Loss: [0.43666679] Validation Accuracy: 0.5733999013900757\n",
      "Epoch 20, CIFAR-10 Batch 1:  Loss: [0.38197309] Validation Accuracy: 0.5817999243736267\n",
      "Epoch 21, CIFAR-10 Batch 1:  Loss: [0.33401191] Validation Accuracy: 0.5739998817443848\n",
      "Epoch 22, CIFAR-10 Batch 1:  Loss: [0.29002824] Validation Accuracy: 0.5799999237060547\n",
      "Epoch 23, CIFAR-10 Batch 1:  Loss: [0.26481253] Validation Accuracy: 0.5807998776435852\n",
      "Epoch 24, CIFAR-10 Batch 1:  Loss: [0.23148802] Validation Accuracy: 0.5671998858451843\n",
      "Epoch 25, CIFAR-10 Batch 1:  Loss: [0.17421098] Validation Accuracy: 0.567599892616272\n"
     ]
    }
   ],
   "source": [
    "\"\"\"\n",
    "DON'T MODIFY ANYTHING IN THIS CELL\n",
    "\"\"\"\n",
    "print('Checking the Training on a Single Batch...')\n",
    "with tf.Session() as sess:\n",
    "    # Initializing the variables\n",
    "    sess.run(tf.global_variables_initializer())\n",
    "    \n",
    "    # Training cycle\n",
    "    for epoch in range(epochs):\n",
    "        batch_i = 1\n",
    "        for batch_features, batch_labels in helper.load_preprocess_training_batch(batch_i, batch_size):\n",
    "            train_neural_network(sess, optimizer, keep_probability, batch_features, batch_labels)\n",
    "        print('Epoch {:>2}, CIFAR-10 Batch {}:  '.format(epoch + 1, batch_i), end='')\n",
    "        print_stats(sess, batch_features, batch_labels, cost, accuracy)"
   ]
  },
  {
   "cell_type": "markdown",
   "metadata": {
    "deletable": true,
    "editable": true
   },
   "source": [
    "### Fully Train the Model\n",
    "Now that you got a good accuracy with a single CIFAR-10 batch, try it with all five batches."
   ]
  },
  {
   "cell_type": "code",
   "execution_count": 18,
   "metadata": {
    "collapsed": false,
    "deletable": true,
    "editable": true
   },
   "outputs": [
    {
     "name": "stdout",
     "output_type": "stream",
     "text": [
      "Training...\n",
      "Epoch  1, CIFAR-10 Batch 1:  Loss: [2.2406516] Validation Accuracy: 0.23839998245239258\n",
      "Epoch  1, CIFAR-10 Batch 2:  Loss: [1.8970901] Validation Accuracy: 0.35919997096061707\n",
      "Epoch  1, CIFAR-10 Batch 3:  Loss: [1.5469903] Validation Accuracy: 0.4213999807834625\n",
      "Epoch  1, CIFAR-10 Batch 4:  Loss: [1.6398396] Validation Accuracy: 0.4520000219345093\n",
      "Epoch  1, CIFAR-10 Batch 5:  Loss: [1.6570148] Validation Accuracy: 0.47039997577667236\n",
      "Epoch  2, CIFAR-10 Batch 1:  Loss: [1.6417158] Validation Accuracy: 0.5053999423980713\n",
      "Epoch  2, CIFAR-10 Batch 2:  Loss: [1.3177148] Validation Accuracy: 0.4971999228000641\n",
      "Epoch  2, CIFAR-10 Batch 3:  Loss: [1.1005841] Validation Accuracy: 0.5171999335289001\n",
      "Epoch  2, CIFAR-10 Batch 4:  Loss: [1.3120733] Validation Accuracy: 0.5299999713897705\n",
      "Epoch  2, CIFAR-10 Batch 5:  Loss: [1.237657] Validation Accuracy: 0.5407999157905579\n",
      "Epoch  3, CIFAR-10 Batch 1:  Loss: [1.458504] Validation Accuracy: 0.5407999157905579\n",
      "Epoch  3, CIFAR-10 Batch 2:  Loss: [1.0633632] Validation Accuracy: 0.5511999130249023\n",
      "Epoch  3, CIFAR-10 Batch 3:  Loss: [0.95114088] Validation Accuracy: 0.5619999170303345\n",
      "Epoch  3, CIFAR-10 Batch 4:  Loss: [1.1158866] Validation Accuracy: 0.574199914932251\n",
      "Epoch  3, CIFAR-10 Batch 5:  Loss: [1.1111118] Validation Accuracy: 0.5633999109268188\n",
      "Epoch  4, CIFAR-10 Batch 1:  Loss: [1.2422425] Validation Accuracy: 0.5781999230384827\n",
      "Epoch  4, CIFAR-10 Batch 2:  Loss: [0.95870364] Validation Accuracy: 0.5867999196052551\n",
      "Epoch  4, CIFAR-10 Batch 3:  Loss: [0.86092693] Validation Accuracy: 0.5923999547958374\n",
      "Epoch  4, CIFAR-10 Batch 4:  Loss: [0.98151779] Validation Accuracy: 0.5945999026298523\n",
      "Epoch  4, CIFAR-10 Batch 5:  Loss: [0.97098452] Validation Accuracy: 0.5889999270439148\n",
      "Epoch  5, CIFAR-10 Batch 1:  Loss: [1.1097298] Validation Accuracy: 0.6005998849868774\n",
      "Epoch  5, CIFAR-10 Batch 2:  Loss: [0.87963021] Validation Accuracy: 0.5917998552322388\n",
      "Epoch  5, CIFAR-10 Batch 3:  Loss: [0.74778914] Validation Accuracy: 0.5955999493598938\n",
      "Epoch  5, CIFAR-10 Batch 4:  Loss: [0.91634059] Validation Accuracy: 0.6139999032020569\n",
      "Epoch  5, CIFAR-10 Batch 5:  Loss: [0.87796843] Validation Accuracy: 0.5967999696731567\n",
      "Epoch  6, CIFAR-10 Batch 1:  Loss: [1.0083483] Validation Accuracy: 0.6113998889923096\n",
      "Epoch  6, CIFAR-10 Batch 2:  Loss: [0.81401837] Validation Accuracy: 0.6075999140739441\n",
      "Epoch  6, CIFAR-10 Batch 3:  Loss: [0.66660851] Validation Accuracy: 0.6039999127388\n",
      "Epoch  6, CIFAR-10 Batch 4:  Loss: [0.79463571] Validation Accuracy: 0.6221998929977417\n",
      "Epoch  6, CIFAR-10 Batch 5:  Loss: [0.81293285] Validation Accuracy: 0.6117998957633972\n",
      "Epoch  7, CIFAR-10 Batch 1:  Loss: [0.92749679] Validation Accuracy: 0.6273999214172363\n",
      "Epoch  7, CIFAR-10 Batch 2:  Loss: [0.7156359] Validation Accuracy: 0.6165998578071594\n",
      "Epoch  7, CIFAR-10 Batch 3:  Loss: [0.63272107] Validation Accuracy: 0.6125999093055725\n",
      "Epoch  7, CIFAR-10 Batch 4:  Loss: [0.72005212] Validation Accuracy: 0.6347998976707458\n",
      "Epoch  7, CIFAR-10 Batch 5:  Loss: [0.70504755] Validation Accuracy: 0.6137999296188354\n",
      "Epoch  8, CIFAR-10 Batch 1:  Loss: [0.90443945] Validation Accuracy: 0.6189999580383301\n",
      "Epoch  8, CIFAR-10 Batch 2:  Loss: [0.73266858] Validation Accuracy: 0.6227998733520508\n",
      "Epoch  8, CIFAR-10 Batch 3:  Loss: [0.5378328] Validation Accuracy: 0.636199951171875\n",
      "Epoch  8, CIFAR-10 Batch 4:  Loss: [0.6669811] Validation Accuracy: 0.6415998935699463\n",
      "Epoch  8, CIFAR-10 Batch 5:  Loss: [0.65731645] Validation Accuracy: 0.6267998218536377\n",
      "Epoch  9, CIFAR-10 Batch 1:  Loss: [0.81032211] Validation Accuracy: 0.6347998976707458\n",
      "Epoch  9, CIFAR-10 Batch 2:  Loss: [0.65968889] Validation Accuracy: 0.6285998821258545\n",
      "Epoch  9, CIFAR-10 Batch 3:  Loss: [0.51578909] Validation Accuracy: 0.6293998956680298\n",
      "Epoch  9, CIFAR-10 Batch 4:  Loss: [0.58544576] Validation Accuracy: 0.6411998867988586\n",
      "Epoch  9, CIFAR-10 Batch 5:  Loss: [0.57205677] Validation Accuracy: 0.6475998759269714\n",
      "Epoch 10, CIFAR-10 Batch 1:  Loss: [0.75022191] Validation Accuracy: 0.6435998678207397\n",
      "Epoch 10, CIFAR-10 Batch 2:  Loss: [0.61727995] Validation Accuracy: 0.6339998841285706\n",
      "Epoch 10, CIFAR-10 Batch 3:  Loss: [0.44275016] Validation Accuracy: 0.6441999077796936\n",
      "Epoch 10, CIFAR-10 Batch 4:  Loss: [0.53236032] Validation Accuracy: 0.6531999111175537\n",
      "Epoch 10, CIFAR-10 Batch 5:  Loss: [0.51642972] Validation Accuracy: 0.6437998414039612\n",
      "Epoch 11, CIFAR-10 Batch 1:  Loss: [0.64978933] Validation Accuracy: 0.6461998820304871\n",
      "Epoch 11, CIFAR-10 Batch 2:  Loss: [0.54208231] Validation Accuracy: 0.6337999105453491\n",
      "Epoch 11, CIFAR-10 Batch 3:  Loss: [0.39291397] Validation Accuracy: 0.6527998447418213\n",
      "Epoch 11, CIFAR-10 Batch 4:  Loss: [0.49553156] Validation Accuracy: 0.6553999185562134\n",
      "Epoch 11, CIFAR-10 Batch 5:  Loss: [0.46280169] Validation Accuracy: 0.6569998860359192\n",
      "Epoch 12, CIFAR-10 Batch 1:  Loss: [0.63039589] Validation Accuracy: 0.6463999152183533\n",
      "Epoch 12, CIFAR-10 Batch 2:  Loss: [0.46208215] Validation Accuracy: 0.6465998888015747\n",
      "Epoch 12, CIFAR-10 Batch 3:  Loss: [0.32811886] Validation Accuracy: 0.6517998576164246\n",
      "Epoch 12, CIFAR-10 Batch 4:  Loss: [0.4515391] Validation Accuracy: 0.6593998670578003\n",
      "Epoch 12, CIFAR-10 Batch 5:  Loss: [0.51846701] Validation Accuracy: 0.6289998292922974\n",
      "Epoch 13, CIFAR-10 Batch 1:  Loss: [0.60456526] Validation Accuracy: 0.6559998989105225\n",
      "Epoch 13, CIFAR-10 Batch 2:  Loss: [0.44493434] Validation Accuracy: 0.660399854183197\n",
      "Epoch 13, CIFAR-10 Batch 3:  Loss: [0.28617048] Validation Accuracy: 0.6519998908042908\n",
      "Epoch 13, CIFAR-10 Batch 4:  Loss: [0.40071255] Validation Accuracy: 0.6611999273300171\n",
      "Epoch 13, CIFAR-10 Batch 5:  Loss: [0.45502636] Validation Accuracy: 0.6333999633789062\n",
      "Epoch 14, CIFAR-10 Batch 1:  Loss: [0.48250136] Validation Accuracy: 0.6627999544143677\n",
      "Epoch 14, CIFAR-10 Batch 2:  Loss: [0.42048168] Validation Accuracy: 0.6641998887062073\n",
      "Epoch 14, CIFAR-10 Batch 3:  Loss: [0.26622707] Validation Accuracy: 0.6647998690605164\n",
      "Epoch 14, CIFAR-10 Batch 4:  Loss: [0.42500383] Validation Accuracy: 0.6543998718261719\n",
      "Epoch 14, CIFAR-10 Batch 5:  Loss: [0.39317] Validation Accuracy: 0.6485999226570129\n",
      "Epoch 15, CIFAR-10 Batch 1:  Loss: [0.46666497] Validation Accuracy: 0.6657998561859131\n",
      "Epoch 15, CIFAR-10 Batch 2:  Loss: [0.36474347] Validation Accuracy: 0.6661998629570007\n",
      "Epoch 15, CIFAR-10 Batch 3:  Loss: [0.19787888] Validation Accuracy: 0.6685999035835266\n",
      "Epoch 15, CIFAR-10 Batch 4:  Loss: [0.33882785] Validation Accuracy: 0.6621999144554138\n",
      "Epoch 15, CIFAR-10 Batch 5:  Loss: [0.3289316] Validation Accuracy: 0.662199854850769\n",
      "Epoch 16, CIFAR-10 Batch 1:  Loss: [0.45309204] Validation Accuracy: 0.66159987449646\n",
      "Epoch 16, CIFAR-10 Batch 2:  Loss: [0.34052849] Validation Accuracy: 0.6665999293327332\n",
      "Epoch 16, CIFAR-10 Batch 3:  Loss: [0.19479223] Validation Accuracy: 0.6647998690605164\n",
      "Epoch 16, CIFAR-10 Batch 4:  Loss: [0.34335533] Validation Accuracy: 0.6665998697280884\n",
      "Epoch 16, CIFAR-10 Batch 5:  Loss: [0.33312055] Validation Accuracy: 0.6545999050140381\n",
      "Epoch 17, CIFAR-10 Batch 1:  Loss: [0.389974] Validation Accuracy: 0.6655998826026917\n",
      "Epoch 17, CIFAR-10 Batch 2:  Loss: [0.30122811] Validation Accuracy: 0.6691998839378357\n",
      "Epoch 17, CIFAR-10 Batch 3:  Loss: [0.2090093] Validation Accuracy: 0.6563998460769653\n",
      "Epoch 17, CIFAR-10 Batch 4:  Loss: [0.32938343] Validation Accuracy: 0.6697998642921448\n",
      "Epoch 17, CIFAR-10 Batch 5:  Loss: [0.26296243] Validation Accuracy: 0.6671998500823975\n",
      "Epoch 18, CIFAR-10 Batch 1:  Loss: [0.39408869] Validation Accuracy: 0.6667998433113098\n",
      "Epoch 18, CIFAR-10 Batch 2:  Loss: [0.25028798] Validation Accuracy: 0.6673998832702637\n",
      "Epoch 18, CIFAR-10 Batch 3:  Loss: [0.16802269] Validation Accuracy: 0.6679999232292175\n",
      "Epoch 18, CIFAR-10 Batch 4:  Loss: [0.26594791] Validation Accuracy: 0.6709998846054077\n",
      "Epoch 18, CIFAR-10 Batch 5:  Loss: [0.25394267] Validation Accuracy: 0.6663998961448669\n",
      "Epoch 19, CIFAR-10 Batch 1:  Loss: [0.34050494] Validation Accuracy: 0.6733999252319336\n",
      "Epoch 19, CIFAR-10 Batch 2:  Loss: [0.25481781] Validation Accuracy: 0.6685999035835266\n",
      "Epoch 19, CIFAR-10 Batch 3:  Loss: [0.16674727] Validation Accuracy: 0.6691998839378357\n",
      "Epoch 19, CIFAR-10 Batch 4:  Loss: [0.25368452] Validation Accuracy: 0.6695998907089233\n",
      "Epoch 19, CIFAR-10 Batch 5:  Loss: [0.32224727] Validation Accuracy: 0.6549999117851257\n",
      "Epoch 20, CIFAR-10 Batch 1:  Loss: [0.33066601] Validation Accuracy: 0.6725997924804688\n",
      "Epoch 20, CIFAR-10 Batch 2:  Loss: [0.19605061] Validation Accuracy: 0.6759998798370361\n",
      "Epoch 20, CIFAR-10 Batch 3:  Loss: [0.13367218] Validation Accuracy: 0.6753998398780823\n",
      "Epoch 20, CIFAR-10 Batch 4:  Loss: [0.24301584] Validation Accuracy: 0.6661998629570007\n",
      "Epoch 20, CIFAR-10 Batch 5:  Loss: [0.23843846] Validation Accuracy: 0.6649998426437378\n",
      "Epoch 21, CIFAR-10 Batch 1:  Loss: [0.27948344] Validation Accuracy: 0.6751998662948608\n",
      "Epoch 21, CIFAR-10 Batch 2:  Loss: [0.19259694] Validation Accuracy: 0.6763998866081238\n",
      "Epoch 21, CIFAR-10 Batch 3:  Loss: [0.12838103] Validation Accuracy: 0.6783998608589172\n",
      "Epoch 21, CIFAR-10 Batch 4:  Loss: [0.23108447] Validation Accuracy: 0.6605998873710632\n",
      "Epoch 21, CIFAR-10 Batch 5:  Loss: [0.20664191] Validation Accuracy: 0.6649999022483826\n",
      "Epoch 22, CIFAR-10 Batch 1:  Loss: [0.23970217] Validation Accuracy: 0.6727998852729797\n",
      "Epoch 22, CIFAR-10 Batch 2:  Loss: [0.1729959] Validation Accuracy: 0.6771999001502991\n",
      "Epoch 22, CIFAR-10 Batch 3:  Loss: [0.14138433] Validation Accuracy: 0.674799919128418\n",
      "Epoch 22, CIFAR-10 Batch 4:  Loss: [0.19835597] Validation Accuracy: 0.6619998812675476\n",
      "Epoch 22, CIFAR-10 Batch 5:  Loss: [0.21763402] Validation Accuracy: 0.6497998833656311\n",
      "Epoch 23, CIFAR-10 Batch 1:  Loss: [0.24130785] Validation Accuracy: 0.6729998588562012\n",
      "Epoch 23, CIFAR-10 Batch 2:  Loss: [0.16700439] Validation Accuracy: 0.6703999042510986\n",
      "Epoch 23, CIFAR-10 Batch 3:  Loss: [0.1248228] Validation Accuracy: 0.6685999035835266\n",
      "Epoch 23, CIFAR-10 Batch 4:  Loss: [0.20827109] Validation Accuracy: 0.6573998928070068\n",
      "Epoch 23, CIFAR-10 Batch 5:  Loss: [0.20078902] Validation Accuracy: 0.6559998989105225\n",
      "Epoch 24, CIFAR-10 Batch 1:  Loss: [0.1919384] Validation Accuracy: 0.6673998832702637\n",
      "Epoch 24, CIFAR-10 Batch 2:  Loss: [0.18587866] Validation Accuracy: 0.6689999103546143\n",
      "Epoch 24, CIFAR-10 Batch 3:  Loss: [0.11292598] Validation Accuracy: 0.6657998561859131\n",
      "Epoch 24, CIFAR-10 Batch 4:  Loss: [0.20504038] Validation Accuracy: 0.6593998670578003\n",
      "Epoch 24, CIFAR-10 Batch 5:  Loss: [0.18726787] Validation Accuracy: 0.6615999341011047\n",
      "Epoch 25, CIFAR-10 Batch 1:  Loss: [0.20306143] Validation Accuracy: 0.6691999435424805\n",
      "Epoch 25, CIFAR-10 Batch 2:  Loss: [0.13972723] Validation Accuracy: 0.668799877166748\n",
      "Epoch 25, CIFAR-10 Batch 3:  Loss: [0.12526345] Validation Accuracy: 0.6605998277664185\n",
      "Epoch 25, CIFAR-10 Batch 4:  Loss: [0.16454913] Validation Accuracy: 0.6517997980117798\n",
      "Epoch 25, CIFAR-10 Batch 5:  Loss: [0.17541838] Validation Accuracy: 0.6631999015808105\n"
     ]
    }
   ],
   "source": [
    "\"\"\"\n",
    "DON'T MODIFY ANYTHING IN THIS CELL\n",
    "\"\"\"\n",
    "save_model_path = './image_classification'\n",
    "\n",
    "print('Training...')\n",
    "with tf.Session() as sess:\n",
    "    # Initializing the variables\n",
    "    sess.run(tf.global_variables_initializer())\n",
    "    \n",
    "    # Training cycle\n",
    "    for epoch in range(epochs):\n",
    "        # Loop over all batches\n",
    "        n_batches = 5\n",
    "        for batch_i in range(1, n_batches + 1):\n",
    "            for batch_features, batch_labels in helper.load_preprocess_training_batch(batch_i, batch_size):\n",
    "                train_neural_network(sess, optimizer, keep_probability, batch_features, batch_labels)\n",
    "            print('Epoch {:>2}, CIFAR-10 Batch {}:  '.format(epoch + 1, batch_i), end='')\n",
    "            print_stats(sess, batch_features, batch_labels, cost, accuracy)\n",
    "            \n",
    "    # Save Model\n",
    "    saver = tf.train.Saver()\n",
    "    save_path = saver.save(sess, save_model_path)"
   ]
  },
  {
   "cell_type": "markdown",
   "metadata": {
    "deletable": true,
    "editable": true
   },
   "source": [
    "# Checkpoint\n",
    "The model has been saved to disk.\n",
    "## Test Model\n",
    "Test your model against the test dataset.  This will be your final accuracy. You should have an accuracy greater than 50%. If you don't, keep tweaking the model architecture and parameters."
   ]
  },
  {
   "cell_type": "code",
   "execution_count": 19,
   "metadata": {
    "collapsed": false,
    "deletable": true,
    "editable": true
   },
   "outputs": [
    {
     "name": "stdout",
     "output_type": "stream",
     "text": [
      "Testing Accuracy: 0.6636669303797469\n",
      "\n"
     ]
    },
    {
     "data": {
      "image/png": "[encoded data removed]",
      "text/plain": [
       "<matplotlib.figure.Figure at 0x7fd45fb65f28>"
      ]
     },
     "metadata": {
      "image/png": {
       "height": 319,
       "width": 355
      }
     },
     "output_type": "display_data"
    }
   ],
   "source": [
    "\"\"\"\n",
    "DON'T MODIFY ANYTHING IN THIS CELL\n",
    "\"\"\"\n",
    "%matplotlib inline\n",
    "%config InlineBackend.figure_format = 'retina'\n",
    "\n",
    "import tensorflow as tf\n",
    "import pickle\n",
    "import helper\n",
    "import random\n",
    "\n",
    "# Set batch size if not already set\n",
    "try:\n",
    "    if batch_size:\n",
    "        pass\n",
    "except NameError:\n",
    "    batch_size = 64\n",
    "\n",
    "save_model_path = './image_classification'\n",
    "n_samples = 4\n",
    "top_n_predictions = 3\n",
    "\n",
    "def test_model():\n",
    "    \"\"\"\n",
    "    Test the saved model against the test dataset\n",
    "    \"\"\"\n",
    "\n",
    "    test_features, test_labels = pickle.load(open('preprocess_training.p', mode='rb'))\n",
    "    loaded_graph = tf.Graph()\n",
    "\n",
    "    with tf.Session(graph=loaded_graph) as sess:\n",
    "        # Load model\n",
    "        loader = tf.train.import_meta_graph(save_model_path + '.meta')\n",
    "        loader.restore(sess, save_model_path)\n",
    "\n",
    "        # Get Tensors from loaded model\n",
    "        loaded_x = loaded_graph.get_tensor_by_name('x:0')\n",
    "        loaded_y = loaded_graph.get_tensor_by_name('y:0')\n",
    "        loaded_keep_prob = loaded_graph.get_tensor_by_name('keep_prob:0')\n",
    "        loaded_logits = loaded_graph.get_tensor_by_name('logits:0')\n",
    "        loaded_acc = loaded_graph.get_tensor_by_name('accuracy:0')\n",
    "        \n",
    "        # Get accuracy in batches for memory limitations\n",
    "        test_batch_acc_total = 0\n",
    "        test_batch_count = 0\n",
    "        \n",
    "        for train_feature_batch, train_label_batch in helper.batch_features_labels(test_features, test_labels, batch_size):\n",
    "            test_batch_acc_total += sess.run(\n",
    "                loaded_acc,\n",
    "                feed_dict={loaded_x: train_feature_batch, loaded_y: train_label_batch, loaded_keep_prob: 1.0})\n",
    "            test_batch_count += 1\n",
    "\n",
    "        print('Testing Accuracy: {}\\n'.format(test_batch_acc_total/test_batch_count))\n",
    "\n",
    "        # Print Random Samples\n",
    "        random_test_features, random_test_labels = tuple(zip(*random.sample(list(zip(test_features, test_labels)), n_samples)))\n",
    "        random_test_predictions = sess.run(\n",
    "            tf.nn.top_k(tf.nn.softmax(loaded_logits), top_n_predictions),\n",
    "            feed_dict={loaded_x: random_test_features, loaded_y: random_test_labels, loaded_keep_prob: 1.0})\n",
    "        helper.display_image_predictions(random_test_features, random_test_labels, random_test_predictions)\n",
    "\n",
    "\n",
    "test_model()"
   ]
  },
  {
   "cell_type": "markdown",
   "metadata": {
    "deletable": true,
    "editable": true
   },
   "source": [
    "# Notes"
   ]
  },
  {
   "cell_type": "markdown",
   "metadata": {
    "deletable": true,
    "editable": true
   },
   "source": [
    "Unfortunately, I don't feel like I have a good intuition on optimal values for hyperparameters such as number of filters."
   ]
  },
  {
   "cell_type": "markdown",
   "metadata": {
    "deletable": true,
    "editable": true
   },
   "source": [
    "## Why 50-70% Accuracy?\n",
    "You might be wondering why you can't get an accuracy any higher. First things first, 50% isn't bad for a simple CNN.  Pure guessing would get you 10% accuracy. However, you might notice people are getting scores [well above 70%](http://rodrigob.github.io/are_we_there_yet/build/classification_datasets_results.html#43494641522d3130).  That's because we haven't taught you all there is to know about neural networks. We still need to cover a few more techniques.\n",
    "## Submitting This Project\n",
    "When submitting this project, make sure to run all the cells before saving the notebook.  Save the notebook file as \"dlnd_image_classification.ipynb\" and save it as a HTML file under \"File\" -> \"Download as\".  Include the \"helper.py\" and \"problem_unittests.py\" files in your submission."
   ]
  },
  {
   "cell_type": "code",
   "execution_count": null,
   "metadata": {
    "collapsed": true,
    "deletable": true,
    "editable": true
   },
   "outputs": [],
   "source": []
  }
 ],
 "metadata": {
  "kernelspec": {
   "display_name": "Python 3",
   "language": "python",
   "name": "python3"
  },
  "language_info": {
   "codemirror_mode": {
    "name": "ipython",
    "version": 3
   },
   "file_extension": ".py",
   "mimetype": "text/x-python",
   "name": "python",
   "nbconvert_exporter": "python",
   "pygments_lexer": "ipython3",
   "version": "3.5.2"
  },
  "widgets": {
   "state": {},
   "version": "1.1.2"
  }
 },
 "nbformat": 4,
 "nbformat_minor": 0
}
